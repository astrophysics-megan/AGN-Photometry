{
 "cells": [
  {
   "cell_type": "code",
   "execution_count": 1,
   "id": "886d0447",
   "metadata": {},
   "outputs": [],
   "source": [
    "import numpy as np\n",
    "import pandas as pd\n",
    "from astropy.io import fits\n",
    "from astropy.table import Table\n",
    "import matplotlib.pyplot as plt\n",
    "import matplotlib.lines as mlines\n",
    "import os"
   ]
  },
  {
   "cell_type": "code",
   "execution_count": 2,
   "id": "292135ab",
   "metadata": {},
   "outputs": [],
   "source": [
    "directory = os.fsencode('/mnt/home/guptaagr/AGN-Photometry/swift27/')\n",
    "directories = []\n",
    "for file in os.listdir(directory):\n",
    "    filename = os.fsdecode(file)\n",
    "    if filename[0]!='0' or filename[-1]=='g':\n",
    "        continue\n",
    "    else:\n",
    "        directories.append(filename)\n",
    "directories=sorted(directories)"
   ]
  },
  {
   "cell_type": "markdown",
   "id": "c2fa4b72",
   "metadata": {},
   "source": [
    "#### Read and clean SWIFT UV Data"
   ]
  },
  {
   "cell_type": "code",
   "execution_count": 3,
   "id": "b4687565",
   "metadata": {},
   "outputs": [],
   "source": [
    "phot = pd.read_csv(\"All27_UV_OM_Photometry.csv\")"
   ]
  },
  {
   "cell_type": "code",
   "execution_count": 4,
   "id": "d635bbb3",
   "metadata": {},
   "outputs": [],
   "source": [
    "phot = phot.drop(['RA_decimal','Dec_decimal','V','V_err','V_flux','V_fluxerr','B','B_err','B_flux','B_fluxerr'], axis=1)"
   ]
  },
  {
   "cell_type": "code",
   "execution_count": 5,
   "id": "34c87a7f",
   "metadata": {},
   "outputs": [
    {
     "data": {
      "text/html": [
       "<div>\n",
       "<style scoped>\n",
       "    .dataframe tbody tr th:only-of-type {\n",
       "        vertical-align: middle;\n",
       "    }\n",
       "\n",
       "    .dataframe tbody tr th {\n",
       "        vertical-align: top;\n",
       "    }\n",
       "\n",
       "    .dataframe thead th {\n",
       "        text-align: right;\n",
       "    }\n",
       "</style>\n",
       "<table border=\"1\" class=\"dataframe\">\n",
       "  <thead>\n",
       "    <tr style=\"text-align: right;\">\n",
       "      <th></th>\n",
       "      <th>Name</th>\n",
       "      <th>SWIFT Target ID</th>\n",
       "      <th>Exposure</th>\n",
       "      <th>Name.1</th>\n",
       "      <th>UVM2</th>\n",
       "      <th>UVM2_err</th>\n",
       "      <th>UVM2_flux</th>\n",
       "      <th>UVM2_fluxerr</th>\n",
       "      <th>UVW1</th>\n",
       "      <th>UVW1_err</th>\n",
       "      <th>UVW1_flux</th>\n",
       "      <th>UVW1_fluxerr</th>\n",
       "      <th>UVW2</th>\n",
       "      <th>UVW2_err</th>\n",
       "      <th>UVW2_flux</th>\n",
       "      <th>UVW2_fluxerr</th>\n",
       "      <th>U</th>\n",
       "      <th>U_err</th>\n",
       "      <th>U_flux</th>\n",
       "      <th>U_fluxerr</th>\n",
       "    </tr>\n",
       "  </thead>\n",
       "  <tbody>\n",
       "    <tr>\n",
       "      <th>0</th>\n",
       "      <td>1H0323+342</td>\n",
       "      <td>96107</td>\n",
       "      <td>1,2,3</td>\n",
       "      <td>1H0323+342</td>\n",
       "      <td>15.9844</td>\n",
       "      <td>0.050</td>\n",
       "      <td>1.870000e-15</td>\n",
       "      <td>8.620000e-17</td>\n",
       "      <td>15.5973</td>\n",
       "      <td>0.0260</td>\n",
       "      <td>2.300000e-15</td>\n",
       "      <td>5.560000e-17</td>\n",
       "      <td>15.92</td>\n",
       "      <td>0.015</td>\n",
       "      <td>2.290000e-15</td>\n",
       "      <td>3.070000e-17</td>\n",
       "      <td>NaN</td>\n",
       "      <td>NaN</td>\n",
       "      <td>NaN</td>\n",
       "      <td>NaN</td>\n",
       "    </tr>\n",
       "    <tr>\n",
       "      <th>1</th>\n",
       "      <td>NaN</td>\n",
       "      <td>96107</td>\n",
       "      <td>4</td>\n",
       "      <td>NaN</td>\n",
       "      <td>15.9851</td>\n",
       "      <td>0.030</td>\n",
       "      <td>1.870000e-15</td>\n",
       "      <td>5.950000e-17</td>\n",
       "      <td>NaN</td>\n",
       "      <td>NaN</td>\n",
       "      <td>NaN</td>\n",
       "      <td>NaN</td>\n",
       "      <td>16.10</td>\n",
       "      <td>0.030</td>\n",
       "      <td>1.950000e-15</td>\n",
       "      <td>5.310000e-17</td>\n",
       "      <td>NaN</td>\n",
       "      <td>NaN</td>\n",
       "      <td>NaN</td>\n",
       "      <td>NaN</td>\n",
       "    </tr>\n",
       "    <tr>\n",
       "      <th>2</th>\n",
       "      <td>1H1934-063</td>\n",
       "      <td>96108</td>\n",
       "      <td>1</td>\n",
       "      <td>1H1934-063</td>\n",
       "      <td>14.9353</td>\n",
       "      <td>0.015</td>\n",
       "      <td>4.930000e-15</td>\n",
       "      <td>6.840000e-17</td>\n",
       "      <td>14.3808</td>\n",
       "      <td>0.0149</td>\n",
       "      <td>7.040000e-15</td>\n",
       "      <td>9.720000e-17</td>\n",
       "      <td>14.79</td>\n",
       "      <td>0.014</td>\n",
       "      <td>6.470000e-15</td>\n",
       "      <td>8.640000e-17</td>\n",
       "      <td>13.5</td>\n",
       "      <td>0.0119</td>\n",
       "      <td>1.410000e-14</td>\n",
       "      <td>1.540000e-16</td>\n",
       "    </tr>\n",
       "    <tr>\n",
       "      <th>3</th>\n",
       "      <td>3C120</td>\n",
       "      <td>96109</td>\n",
       "      <td>1</td>\n",
       "      <td>3C120</td>\n",
       "      <td>14.8860</td>\n",
       "      <td>0.015</td>\n",
       "      <td>5.150000e-15</td>\n",
       "      <td>7.310000e-17</td>\n",
       "      <td>NaN</td>\n",
       "      <td>NaN</td>\n",
       "      <td>NaN</td>\n",
       "      <td>NaN</td>\n",
       "      <td>NaN</td>\n",
       "      <td>NaN</td>\n",
       "      <td>NaN</td>\n",
       "      <td>NaN</td>\n",
       "      <td>NaN</td>\n",
       "      <td>NaN</td>\n",
       "      <td>NaN</td>\n",
       "      <td>NaN</td>\n",
       "    </tr>\n",
       "    <tr>\n",
       "      <th>4</th>\n",
       "      <td>3C382</td>\n",
       "      <td>96110</td>\n",
       "      <td>1</td>\n",
       "      <td>3C382</td>\n",
       "      <td>15.3800</td>\n",
       "      <td>0.030</td>\n",
       "      <td>3.260000e-15</td>\n",
       "      <td>9.710000e-17</td>\n",
       "      <td>NaN</td>\n",
       "      <td>NaN</td>\n",
       "      <td>NaN</td>\n",
       "      <td>NaN</td>\n",
       "      <td>NaN</td>\n",
       "      <td>NaN</td>\n",
       "      <td>NaN</td>\n",
       "      <td>NaN</td>\n",
       "      <td>NaN</td>\n",
       "      <td>NaN</td>\n",
       "      <td>NaN</td>\n",
       "      <td>NaN</td>\n",
       "    </tr>\n",
       "  </tbody>\n",
       "</table>\n",
       "</div>"
      ],
      "text/plain": [
       "         Name SWIFT Target ID Exposure      Name.1     UVM2  UVM2_err  \\\n",
       "0  1H0323+342           96107    1,2,3  1H0323+342  15.9844     0.050   \n",
       "1         NaN           96107        4         NaN  15.9851     0.030   \n",
       "2  1H1934-063           96108        1  1H1934-063  14.9353     0.015   \n",
       "3       3C120           96109        1       3C120  14.8860     0.015   \n",
       "4       3C382           96110        1       3C382  15.3800     0.030   \n",
       "\n",
       "      UVM2_flux  UVM2_fluxerr     UVW1  UVW1_err     UVW1_flux  UVW1_fluxerr  \\\n",
       "0  1.870000e-15  8.620000e-17  15.5973    0.0260  2.300000e-15  5.560000e-17   \n",
       "1  1.870000e-15  5.950000e-17      NaN       NaN           NaN           NaN   \n",
       "2  4.930000e-15  6.840000e-17  14.3808    0.0149  7.040000e-15  9.720000e-17   \n",
       "3  5.150000e-15  7.310000e-17      NaN       NaN           NaN           NaN   \n",
       "4  3.260000e-15  9.710000e-17      NaN       NaN           NaN           NaN   \n",
       "\n",
       "    UVW2  UVW2_err     UVW2_flux  UVW2_fluxerr     U   U_err        U_flux  \\\n",
       "0  15.92     0.015  2.290000e-15  3.070000e-17   NaN     NaN           NaN   \n",
       "1  16.10     0.030  1.950000e-15  5.310000e-17   NaN     NaN           NaN   \n",
       "2  14.79     0.014  6.470000e-15  8.640000e-17  13.5  0.0119  1.410000e-14   \n",
       "3    NaN       NaN           NaN           NaN   NaN     NaN           NaN   \n",
       "4    NaN       NaN           NaN           NaN   NaN     NaN           NaN   \n",
       "\n",
       "      U_fluxerr  \n",
       "0           NaN  \n",
       "1           NaN  \n",
       "2  1.540000e-16  \n",
       "3           NaN  \n",
       "4           NaN  "
      ]
     },
     "execution_count": 5,
     "metadata": {},
     "output_type": "execute_result"
    }
   ],
   "source": [
    "phot.head()"
   ]
  },
  {
   "cell_type": "markdown",
   "id": "a82787e3",
   "metadata": {},
   "source": [
    "#### Read 2MASS IR Data"
   ]
  },
  {
   "cell_type": "code",
   "execution_count": 6,
   "id": "158386cf",
   "metadata": {},
   "outputs": [
    {
     "data": {
      "text/html": [
       "<div>\n",
       "<style scoped>\n",
       "    .dataframe tbody tr th:only-of-type {\n",
       "        vertical-align: middle;\n",
       "    }\n",
       "\n",
       "    .dataframe tbody tr th {\n",
       "        vertical-align: top;\n",
       "    }\n",
       "\n",
       "    .dataframe thead th {\n",
       "        text-align: right;\n",
       "    }\n",
       "</style>\n",
       "<table border=\"1\" class=\"dataframe\">\n",
       "  <thead>\n",
       "    <tr style=\"text-align: right;\">\n",
       "      <th></th>\n",
       "      <th>cntr_01</th>\n",
       "      <th>ra_01</th>\n",
       "      <th>dec_01</th>\n",
       "      <th>designation</th>\n",
       "      <th>ra</th>\n",
       "      <th>dec</th>\n",
       "      <th>r_k20fe</th>\n",
       "      <th>j_m_5</th>\n",
       "      <th>j_msig_5</th>\n",
       "      <th>j_flg_5</th>\n",
       "      <th>...</th>\n",
       "      <th>k_flg_50</th>\n",
       "      <th>j_m_60</th>\n",
       "      <th>j_msig_60</th>\n",
       "      <th>j_flg_60</th>\n",
       "      <th>h_m_60</th>\n",
       "      <th>h_msig_60</th>\n",
       "      <th>h_flg_60</th>\n",
       "      <th>k_m_60</th>\n",
       "      <th>k_msig_60</th>\n",
       "      <th>k_flg_60</th>\n",
       "    </tr>\n",
       "  </thead>\n",
       "  <tbody>\n",
       "    <tr>\n",
       "      <th>0</th>\n",
       "      <td>1</td>\n",
       "      <td>51.2</td>\n",
       "      <td>34.20</td>\n",
       "      <td>03244119+3410459</td>\n",
       "      <td>51.171658</td>\n",
       "      <td>34.179424</td>\n",
       "      <td>8.9</td>\n",
       "      <td>13.671</td>\n",
       "      <td>0.021</td>\n",
       "      <td>0.0</td>\n",
       "      <td>...</td>\n",
       "      <td>NaN</td>\n",
       "      <td>NaN</td>\n",
       "      <td>NaN</td>\n",
       "      <td>NaN</td>\n",
       "      <td>NaN</td>\n",
       "      <td>NaN</td>\n",
       "      <td>NaN</td>\n",
       "      <td>NaN</td>\n",
       "      <td>NaN</td>\n",
       "      <td>NaN</td>\n",
       "    </tr>\n",
       "    <tr>\n",
       "      <th>1</th>\n",
       "      <td>2</td>\n",
       "      <td>294.0</td>\n",
       "      <td>-6.22</td>\n",
       "      <td>19373299-0613046</td>\n",
       "      <td>294.387482</td>\n",
       "      <td>-6.217972</td>\n",
       "      <td>19.8</td>\n",
       "      <td>11.951</td>\n",
       "      <td>0.007</td>\n",
       "      <td>3.0</td>\n",
       "      <td>...</td>\n",
       "      <td>NaN</td>\n",
       "      <td>NaN</td>\n",
       "      <td>NaN</td>\n",
       "      <td>NaN</td>\n",
       "      <td>NaN</td>\n",
       "      <td>NaN</td>\n",
       "      <td>NaN</td>\n",
       "      <td>NaN</td>\n",
       "      <td>NaN</td>\n",
       "      <td>NaN</td>\n",
       "    </tr>\n",
       "    <tr>\n",
       "      <th>2</th>\n",
       "      <td>3</td>\n",
       "      <td>68.3</td>\n",
       "      <td>5.35</td>\n",
       "      <td>04331106+0521151</td>\n",
       "      <td>68.296120</td>\n",
       "      <td>5.354222</td>\n",
       "      <td>16.8</td>\n",
       "      <td>12.385</td>\n",
       "      <td>0.010</td>\n",
       "      <td>0.0</td>\n",
       "      <td>...</td>\n",
       "      <td>NaN</td>\n",
       "      <td>NaN</td>\n",
       "      <td>NaN</td>\n",
       "      <td>NaN</td>\n",
       "      <td>NaN</td>\n",
       "      <td>NaN</td>\n",
       "      <td>NaN</td>\n",
       "      <td>NaN</td>\n",
       "      <td>NaN</td>\n",
       "      <td>NaN</td>\n",
       "    </tr>\n",
       "    <tr>\n",
       "      <th>3</th>\n",
       "      <td>4</td>\n",
       "      <td>279.0</td>\n",
       "      <td>32.70</td>\n",
       "      <td>18350342+3241471</td>\n",
       "      <td>278.764252</td>\n",
       "      <td>32.696434</td>\n",
       "      <td>14.9</td>\n",
       "      <td>12.387</td>\n",
       "      <td>0.008</td>\n",
       "      <td>0.0</td>\n",
       "      <td>...</td>\n",
       "      <td>NaN</td>\n",
       "      <td>NaN</td>\n",
       "      <td>NaN</td>\n",
       "      <td>NaN</td>\n",
       "      <td>NaN</td>\n",
       "      <td>NaN</td>\n",
       "      <td>NaN</td>\n",
       "      <td>NaN</td>\n",
       "      <td>NaN</td>\n",
       "      <td>NaN</td>\n",
       "    </tr>\n",
       "    <tr>\n",
       "      <th>4</th>\n",
       "      <td>5</td>\n",
       "      <td>281.0</td>\n",
       "      <td>79.80</td>\n",
       "      <td>18420899+7946170</td>\n",
       "      <td>280.537476</td>\n",
       "      <td>79.771393</td>\n",
       "      <td>7.7</td>\n",
       "      <td>13.364</td>\n",
       "      <td>0.018</td>\n",
       "      <td>0.0</td>\n",
       "      <td>...</td>\n",
       "      <td>NaN</td>\n",
       "      <td>NaN</td>\n",
       "      <td>NaN</td>\n",
       "      <td>NaN</td>\n",
       "      <td>NaN</td>\n",
       "      <td>NaN</td>\n",
       "      <td>NaN</td>\n",
       "      <td>NaN</td>\n",
       "      <td>NaN</td>\n",
       "      <td>NaN</td>\n",
       "    </tr>\n",
       "  </tbody>\n",
       "</table>\n",
       "<p>5 rows × 97 columns</p>\n",
       "</div>"
      ],
      "text/plain": [
       "   cntr_01  ra_01  dec_01       designation          ra        dec  r_k20fe  \\\n",
       "0        1   51.2   34.20  03244119+3410459   51.171658  34.179424      8.9   \n",
       "1        2  294.0   -6.22  19373299-0613046  294.387482  -6.217972     19.8   \n",
       "2        3   68.3    5.35  04331106+0521151   68.296120   5.354222     16.8   \n",
       "3        4  279.0   32.70  18350342+3241471  278.764252  32.696434     14.9   \n",
       "4        5  281.0   79.80  18420899+7946170  280.537476  79.771393      7.7   \n",
       "\n",
       "    j_m_5  j_msig_5  j_flg_5  ...  k_flg_50  j_m_60  j_msig_60  j_flg_60  \\\n",
       "0  13.671     0.021      0.0  ...       NaN     NaN        NaN       NaN   \n",
       "1  11.951     0.007      3.0  ...       NaN     NaN        NaN       NaN   \n",
       "2  12.385     0.010      0.0  ...       NaN     NaN        NaN       NaN   \n",
       "3  12.387     0.008      0.0  ...       NaN     NaN        NaN       NaN   \n",
       "4  13.364     0.018      0.0  ...       NaN     NaN        NaN       NaN   \n",
       "\n",
       "   h_m_60  h_msig_60  h_flg_60  k_m_60  k_msig_60  k_flg_60  \n",
       "0     NaN        NaN       NaN     NaN        NaN       NaN  \n",
       "1     NaN        NaN       NaN     NaN        NaN       NaN  \n",
       "2     NaN        NaN       NaN     NaN        NaN       NaN  \n",
       "3     NaN        NaN       NaN     NaN        NaN       NaN  \n",
       "4     NaN        NaN       NaN     NaN        NaN       NaN  \n",
       "\n",
       "[5 rows x 97 columns]"
      ]
     },
     "execution_count": 6,
     "metadata": {},
     "output_type": "execute_result"
    }
   ],
   "source": [
    "two_mass = pd.read_csv(\"2mass.csv\")\n",
    "two_mass.head()"
   ]
  },
  {
   "cell_type": "markdown",
   "id": "d634ff9f",
   "metadata": {},
   "source": [
    "### 5.0"
   ]
  },
  {
   "cell_type": "code",
   "execution_count": 7,
   "id": "b5025249",
   "metadata": {},
   "outputs": [],
   "source": [
    "mags = {}\n",
    "errs = {}\n",
    "uv_filter = 'uuu'\n",
    "\n",
    "i=0\n",
    "\n",
    "while i < len(directories):\n",
    "    obs_id = directories[i]\n",
    "    source_id = obs_id[3:8]  # Extract the middle 5 digits representing the source\n",
    "\n",
    "    file_found = False\n",
    "    for j in range(i, len(directories)):\n",
    "        if directories[j].startswith('000' + source_id):\n",
    "            filepath = f\"{directories[j]}/uvot/image/maghist_uuu_5.000_{directories[j]}.fits\"\n",
    "            if os.path.exists(filepath):\n",
    "                # Read the FITS file and extract the data\n",
    "                mag_data = Table(fits.getdata(filepath))\n",
    "\n",
    "                # Calculate the mean magnitude and error\n",
    "                mags[directories[j][3:8]] = (np.mean(mag_data['MAG']),'uuu',np.mean(mag_data['MAG_ERR']))\n",
    "                file_found = True\n",
    "                break\n",
    "        else:\n",
    "            break\n",
    "\n",
    "    if file_found:\n",
    "        # Skip to the next source\n",
    "        while i < len(directories) and directories[i].startswith('000' + source_id):\n",
    "            i += 1\n",
    "    else:\n",
    "        i += 1"
   ]
  },
  {
   "cell_type": "code",
   "execution_count": 8,
   "id": "865a2633",
   "metadata": {},
   "outputs": [
    {
     "data": {
      "text/plain": [
       "14"
      ]
     },
     "execution_count": 8,
     "metadata": {},
     "output_type": "execute_result"
    }
   ],
   "source": [
    "len(mags)"
   ]
  },
  {
   "cell_type": "code",
   "execution_count": 9,
   "id": "ef38b25c",
   "metadata": {},
   "outputs": [],
   "source": [
    "# mags = {}\n",
    "# errs = {}\n",
    "\n",
    "i=0\n",
    "\n",
    "while i < len(directories):\n",
    "    obs_id = directories[i]\n",
    "    source_id = obs_id[3:8]  # Extract the middle 5 digits representing the source\n",
    "    if source_id in mags.keys() and mags[source_id][0] < 20:\n",
    "        i += 1\n",
    "        continue\n",
    "\n",
    "    file_found = False\n",
    "    for j in range(i, len(directories)):\n",
    "        if directories[j].startswith('000' + source_id):\n",
    "            filepath = f\"{directories[j]}/uvot/image/maghist_uw1_5.000_{directories[j]}.fits\"\n",
    "            if os.path.exists(filepath):\n",
    "                # Read the FITS file and extract the data\n",
    "                mag_data = Table(fits.getdata(filepath))\n",
    "                if np.mean(mag_data['MAG']) > 20:\n",
    "                    continue\n",
    "\n",
    "                # Calculate the mean magnitude and error\n",
    "                mags[directories[j][3:8]] = (np.mean(mag_data['MAG']),'uw1',np.mean(mag_data['MAG_ERR']))\n",
    "                file_found = True\n",
    "                break\n",
    "        else:\n",
    "            break\n",
    "\n",
    "    if file_found:\n",
    "        # Skip to the next source\n",
    "        while i < len(directories) and directories[i].startswith('000' + source_id):\n",
    "            i += 1\n",
    "    else:\n",
    "        i += 1"
   ]
  },
  {
   "cell_type": "code",
   "execution_count": 10,
   "id": "baf88419",
   "metadata": {},
   "outputs": [
    {
     "data": {
      "text/plain": [
       "{'96107': (15.661275, 'uuu', 0.027036188),\n",
       " '96108': (14.524779, 'uuu', 0.04130706),\n",
       " '96111': (14.721017, 'uuu', 0.026408307),\n",
       " '96113': (14.383213, 'uuu', 0.024190884),\n",
       " '96115': (16.394503, 'uuu', 0.033723265),\n",
       " '96118': (13.809158, 'uuu', 0.027446792),\n",
       " '96119': (12.450521, 'uuu', 0.024303854),\n",
       " '96120': (15.222758, 'uuu', 0.028788289),\n",
       " '96122': (13.493342, 'uuu', 0.023893474),\n",
       " '96123': (14.202268, 'uuu', 0.024752593),\n",
       " '96128': (13.161275, 'uuu', 0.02381968),\n",
       " '96130': (13.546209, 'uuu', 0.025801314),\n",
       " '96131': (15.387918, 'uuu', 0.02763448),\n",
       " '96132': (15.478899, 'uw1', 0.035420287),\n",
       " '96112': (12.917785, 'uw1', 0.022308068),\n",
       " '96117': (13.766847, 'uw1', 0.022786934),\n",
       " '96129': (12.741871, 'uw1', 0.02295766),\n",
       " '96133': (12.85931, 'uw1', 0.022399947)}"
      ]
     },
     "execution_count": 10,
     "metadata": {},
     "output_type": "execute_result"
    }
   ],
   "source": [
    "mags"
   ]
  },
  {
   "cell_type": "code",
   "execution_count": 11,
   "id": "993445df",
   "metadata": {},
   "outputs": [],
   "source": [
    "# mags = {}\n",
    "# errs = {}\n",
    "\n",
    "i=0\n",
    "\n",
    "while i < len(directories):\n",
    "    obs_id = directories[i]\n",
    "    source_id = obs_id[3:8]  # Extract the middle 5 digits representing the source\n",
    "    if source_id in mags.keys() and mags[source_id][0] < 20:\n",
    "        i += 1\n",
    "        continue\n",
    "\n",
    "    file_found = False\n",
    "    for j in range(i, len(directories)):\n",
    "        if directories[j].startswith('000' + source_id):\n",
    "            filepath = f\"{directories[j]}/uvot/image/maghist_um2_5.000_{directories[j]}.fits\"\n",
    "            if os.path.exists(filepath):\n",
    "                # Read the FITS file and extract the data\n",
    "                mag_data = Table(fits.getdata(filepath))\n",
    "                if np.mean(mag_data['MAG']) > 20:\n",
    "                    continue\n",
    "\n",
    "                # Calculate the mean magnitude and error\n",
    "                mags[directories[j][3:8]] = (np.mean(mag_data['MAG']),'um2',np.mean(mag_data['MAG_ERR']))\n",
    "                file_found = True\n",
    "                break\n",
    "        else:\n",
    "            break\n",
    "\n",
    "    if file_found:\n",
    "        # Skip to the next source\n",
    "        while i < len(directories) and directories[i].startswith('000' + source_id):\n",
    "            i += 1\n",
    "    else:\n",
    "        i += 1"
   ]
  },
  {
   "cell_type": "code",
   "execution_count": 12,
   "id": "b8a34587",
   "metadata": {},
   "outputs": [
    {
     "data": {
      "text/plain": [
       "21"
      ]
     },
     "execution_count": 12,
     "metadata": {},
     "output_type": "execute_result"
    }
   ],
   "source": [
    "len(mags)"
   ]
  },
  {
   "cell_type": "code",
   "execution_count": 13,
   "id": "069a3f43",
   "metadata": {},
   "outputs": [
    {
     "name": "stdout",
     "output_type": "stream",
     "text": [
      "{'96107': (15.661275, 'uuu', 0.027036188), '96108': (14.524779, 'uuu', 0.04130706), '96109': (15.004625, 'um2', 0.032650653), '96110': (15.436087, 'um2', 0.039439194), '96111': (14.721017, 'uuu', 0.026408307), '96112': (12.917785, 'uw1', 0.022308068), '96113': (14.383213, 'uuu', 0.024190884), '96114': (16.932648, 'um2', 0.078427255), '96115': (16.394503, 'uuu', 0.033723265), '96117': (13.766847, 'uw1', 0.022786934), '96118': (13.809158, 'uuu', 0.027446792), '96119': (12.450521, 'uuu', 0.024303854), '96120': (15.222758, 'uuu', 0.028788289), '96122': (13.493342, 'uuu', 0.023893474), '96123': (14.202268, 'uuu', 0.024752593), '96128': (13.161275, 'uuu', 0.02381968), '96129': (12.741871, 'uw1', 0.02295766), '96130': (13.546209, 'uuu', 0.025801314), '96131': (15.387918, 'uuu', 0.02763448), '96132': (15.478899, 'uw1', 0.035420287), '96133': (12.85931, 'uw1', 0.022399947)}\n"
     ]
    }
   ],
   "source": [
    "myKeys = list(mags.keys())\n",
    "myKeys.sort()\n",
    "sorted_mags = {i: mags[i] for i in myKeys}\n",
    " \n",
    "print(sorted_mags)"
   ]
  },
  {
   "cell_type": "code",
   "execution_count": 14,
   "id": "44c383d4",
   "metadata": {},
   "outputs": [
    {
     "name": "stdout",
     "output_type": "stream",
     "text": [
      "96107 [nan nan]\n",
      "96117 [14.2683 13.4655]\n",
      "96118 [13.68 13.53   nan]\n",
      "96120 [13.51   nan]\n",
      "96129 [12.5011 12.4032 12.6048]\n",
      "96130 [13.32   nan]\n",
      "96131 [14.34 15.45]\n",
      "96132 [15.3463 14.906  15.1625]\n",
      "96133 [12.5591     nan]\n"
     ]
    }
   ],
   "source": [
    "pipeline = {}\n",
    "i = 0\n",
    "for obs_id in sorted_mags.keys():\n",
    "    obs_data = phot.loc[phot['SWIFT Target ID'] == obs_id]\n",
    "    if not obs_data.empty:\n",
    "        uv_filter_map = {'uw2': 'UVW2', 'uw1': 'UVW1', 'uuu': 'U', 'um2': 'UVM2'}\n",
    "        uv_filter = list(sorted_mags.values())[i][1]\n",
    "        pipeline_filter = uv_filter_map[uv_filter]\n",
    "        if len(obs_data[pipeline_filter].values) > 1:\n",
    "            print(obs_id, obs_data[pipeline_filter].values)\n",
    "            if np.isnan(obs_data[pipeline_filter].values[1]):\n",
    "                pipeline_mag = obs_data[pipeline_filter].values[0]\n",
    "            elif obs_data[pipeline_filter].values[1]-sorted_mags[obs_id][0]>obs_data[pipeline_filter].values[0]-sorted_mags[obs_id][0]:\n",
    "                pipeline_mag = obs_data[pipeline_filter].values[0]\n",
    "            else:\n",
    "                pipeline_mag = obs_data[pipeline_filter].values[1]\n",
    "        else: \n",
    "            pipeline_mag = obs_data[pipeline_filter].values[0]\n",
    "        pipeline[obs_id] = pipeline_mag\n",
    "        i += 1"
   ]
  },
  {
   "cell_type": "code",
   "execution_count": 15,
   "id": "7cb4adf2",
   "metadata": {},
   "outputs": [
    {
     "name": "stdout",
     "output_type": "stream",
     "text": [
      "[15.661275, 14.524779, 15.004625, 15.436087, 14.721017, 12.917785, 14.383213, 16.932648, 16.394503, 13.766847, 13.809158, 12.450521, 15.222758, 13.493342, 14.202268, 13.161275, 12.741871, 13.546209, 15.387918, 15.478899, 12.85931]\n"
     ]
    },
    {
     "data": {
      "text/plain": [
       "<matplotlib.collections.PathCollection at 0x2b396f6111d0>"
      ]
     },
     "execution_count": 15,
     "metadata": {},
     "output_type": "execute_result"
    },
    {
     "data": {
      "image/png": "[encoded data removed]",
      "text/plain": [
       "<Figure size 640x480 with 1 Axes>"
      ]
     },
     "metadata": {},
     "output_type": "display_data"
    }
   ],
   "source": [
    "magni = []\n",
    "filters = []\n",
    "errs = []\n",
    "for i in list(sorted_mags.values()):\n",
    "    magni.append(i[0])\n",
    "    filters.append(i[1])\n",
    "    errs.append(i[2])\n",
    "print(magni)\n",
    "\n",
    "plt.plot(list(pipeline.values()),list(pipeline.values()), color='orange')\n",
    "plt.errorbar(list(pipeline.values()),magni,yerr=errs,fmt='none', capsize=5)\n",
    "plt.scatter(list(pipeline.values()),magni, s=7)"
   ]
  },
  {
   "cell_type": "code",
   "execution_count": 16,
   "id": "44177626",
   "metadata": {},
   "outputs": [
    {
     "data": {
      "text/plain": [
       "12.973633798217772"
      ]
     },
     "execution_count": 16,
     "metadata": {},
     "output_type": "execute_result"
    }
   ],
   "source": [
    "total = 0\n",
    "for i, mag in enumerate(magni):\n",
    "    if np.isnan(list(pipeline.values())[i]):\n",
    "        continue\n",
    "    total += mag - list(pipeline.values())[i]\n",
    "total"
   ]
  },
  {
   "cell_type": "code",
   "execution_count": 17,
   "id": "72b44150",
   "metadata": {},
   "outputs": [
    {
     "data": {
      "image/png": "[encoded data removed]",
      "text/plain": [
       "<Figure size 1200x900 with 1 Axes>"
      ]
     },
     "metadata": {},
     "output_type": "display_data"
    }
   ],
   "source": [
    "marker_map = {'uw1': '^', 'uuu': 'o', 'um2': 's'}  # Example mapping\n",
    "\n",
    "magni = []\n",
    "filters = []\n",
    "errs = []\n",
    "labels = []\n",
    "\n",
    "for key, value in sorted_mags.items():\n",
    "    magni.append(value[0])\n",
    "    filters.append(value[1])\n",
    "    errs.append(value[2])\n",
    "    labels.append(key)\n",
    "\n",
    "plt.figure(figsize=(12,9))\n",
    "plt.plot(list(pipeline.values()), list(pipeline.values()), color='orange')\n",
    "\n",
    "legend_handles = []\n",
    "for filter_type, marker in marker_map.items():\n",
    "    # Create a legend entry for each filter type\n",
    "    legend_handle = mlines.Line2D([], [], color='black', marker=marker, linestyle='None', markersize=10, label=filter_type)\n",
    "    legend_handles.append(legend_handle)\n",
    "\n",
    "    # Plot points\n",
    "    for label, mag, fltr, err in zip(labels, magni, filters, errs):\n",
    "        if fltr == filter_type:\n",
    "            plt.scatter(pipeline[label], mag, s=25, marker=marker)\n",
    "#             plt.text(pipeline[label], mag, label)\n",
    "\n",
    "# Uncomment the next line if you want to include error bars\n",
    "# plt.errorbar(list(pipeline.values()), magni, yerr=errs, fmt='none', capsize=5)\n",
    "\n",
    "plt.legend(handles=legend_handles, title='Filters')\n",
    "plt.title(\"5\\\" Aperture Pipeline vs UVOT Photometry\")\n",
    "plt.xlabel(\"Pipeline Magnitudes\")\n",
    "plt.ylabel(\"UVOT Photometry Magnitudes\")\n",
    "plt.show()"
   ]
  },
  {
   "cell_type": "markdown",
   "id": "0dd0ddd6",
   "metadata": {},
   "source": [
    "### 15.0"
   ]
  },
  {
   "cell_type": "code",
   "execution_count": 18,
   "id": "69b5ea69",
   "metadata": {},
   "outputs": [],
   "source": [
    "mags = {}\n",
    "errs = {}\n",
    "uv_filter = 'uuu'\n",
    "\n",
    "i=0\n",
    "\n",
    "while i < len(directories):\n",
    "    obs_id = directories[i]\n",
    "    source_id = obs_id[3:8]  # Extract the middle 5 digits representing the source\n",
    "\n",
    "    file_found = False\n",
    "    for j in range(i, len(directories)):\n",
    "        if directories[j].startswith('000' + source_id):\n",
    "            filepath = f\"{directories[j]}/uvot/image/maghist_uuu_15.000_{directories[j]}_noapcorr.fits\"\n",
    "            if os.path.exists(filepath):\n",
    "                # Read the FITS file and extract the data\n",
    "                mag_data = Table(fits.getdata(filepath))\n",
    "\n",
    "                # Calculate the mean magnitude and error\n",
    "                mags[directories[j][3:8]] = (np.mean(mag_data['MAG']),'uuu',np.mean(mag_data['MAG_ERR']))\n",
    "                file_found = True\n",
    "                break\n",
    "        else:\n",
    "            break\n",
    "\n",
    "    if file_found:\n",
    "        # Skip to the next source\n",
    "        while i < len(directories) and directories[i].startswith('000' + source_id):\n",
    "            i += 1\n",
    "    else:\n",
    "        i += 1"
   ]
  },
  {
   "cell_type": "code",
   "execution_count": 19,
   "id": "84b8f175",
   "metadata": {},
   "outputs": [],
   "source": [
    "# mags = {}\n",
    "# errs = {}\n",
    "\n",
    "i=0\n",
    "\n",
    "while i < len(directories):\n",
    "    obs_id = directories[i]\n",
    "    source_id = obs_id[3:8]  # Extract the middle 5 digits representing the source\n",
    "    if source_id in mags.keys() and mags[source_id][0] < 20:\n",
    "        i += 1\n",
    "        continue\n",
    "\n",
    "    file_found = False\n",
    "    for j in range(i, len(directories)):\n",
    "        if directories[j].startswith('000' + source_id):\n",
    "            filepath = f\"{directories[j]}/uvot/image/maghist_uw1_15.000_{directories[j]}_noapcorr.fits\"\n",
    "            if os.path.exists(filepath):\n",
    "                # Read the FITS file and extract the data\n",
    "                mag_data = Table(fits.getdata(filepath))\n",
    "                if np.mean(mag_data['MAG']) > 20:\n",
    "                    continue\n",
    "\n",
    "                # Calculate the mean magnitude and error\n",
    "                mags[directories[j][3:8]] = (np.mean(mag_data['MAG']),'uw1',np.mean(mag_data['MAG_ERR']))\n",
    "                file_found = True\n",
    "                break\n",
    "        else:\n",
    "            break\n",
    "\n",
    "    if file_found:\n",
    "        # Skip to the next source\n",
    "        while i < len(directories) and directories[i].startswith('000' + source_id):\n",
    "            i += 1\n",
    "    else:\n",
    "        i += 1"
   ]
  },
  {
   "cell_type": "code",
   "execution_count": 20,
   "id": "de571ee0",
   "metadata": {},
   "outputs": [],
   "source": [
    "# mags = {}\n",
    "# errs = {}\n",
    "\n",
    "i=0\n",
    "\n",
    "while i < len(directories):\n",
    "    obs_id = directories[i]\n",
    "    source_id = obs_id[3:8]  # Extract the middle 5 digits representing the source\n",
    "    if source_id in mags.keys() and mags[source_id][0] < 20:\n",
    "        i += 1\n",
    "        continue\n",
    "\n",
    "    file_found = False\n",
    "    for j in range(i, len(directories)):\n",
    "        if directories[j].startswith('000' + source_id):\n",
    "            filepath = f\"{directories[j]}/uvot/image/maghist_um2_15.000_{directories[j]}_noapcorr.fits\"\n",
    "            if os.path.exists(filepath):\n",
    "                # Read the FITS file and extract the data\n",
    "                mag_data = Table(fits.getdata(filepath))\n",
    "                if np.mean(mag_data['MAG']) > 20:\n",
    "                    continue\n",
    "\n",
    "                # Calculate the mean magnitude and error\n",
    "                mags[directories[j][3:8]] = (np.mean(mag_data['MAG']),'um2',np.mean(mag_data['MAG_ERR']))\n",
    "                file_found = True\n",
    "                break\n",
    "        else:\n",
    "            break\n",
    "\n",
    "    if file_found:\n",
    "        # Skip to the next source\n",
    "        while i < len(directories) and directories[i].startswith('000' + source_id):\n",
    "            i += 1\n",
    "    else:\n",
    "        i += 1"
   ]
  },
  {
   "cell_type": "code",
   "execution_count": 21,
   "id": "5b6ae4c1",
   "metadata": {},
   "outputs": [
    {
     "name": "stdout",
     "output_type": "stream",
     "text": [
      "{'96107': (15.421921, 'uuu', 0.01435933), '96108': (13.839274, 'uuu', 0.020038823), '96109': (14.803541, 'um2', 0.022525288), '96110': (15.254102, 'um2', 0.030990452), '96111': (14.52573, 'uuu', 0.011202216), '96112': (12.7354765, 'uw1', 0.006335516), '96113': (13.823775, 'uuu', 0.0040434822), '96114': (16.38167, 'um2', 0.06849917), '96115': (15.562273, 'uuu', 0.020488406), '96117': (13.562252, 'uw1', 0.007913067), '96118': (13.60901, 'uuu', 0.011864661), '96119': (12.208187, 'uuu', 0.016878532), '96120': (14.359438, 'uuu', 0.009958815), '96122': (13.248884, 'uuu', 0.0033126548), '96123': (12.561334, 'uuu', 0.00481199), '96125': (13.5287285, 'uw1', 0.014873887), '96128': (12.674561, 'uuu', 0.0068112244), '96129': (12.579492, 'uw1', 0.007847448), '96130': (13.351262, 'uuu', 0.008564169), '96131': (15.184244, 'uuu', 0.016483523), '96132': (15.188243, 'uw1', 0.027406069), '96133': (12.6928005, 'uw1', 0.0065557063)}\n"
     ]
    }
   ],
   "source": [
    "myKeys = list(mags.keys())\n",
    "myKeys.sort()\n",
    "sorted_mags = {i: mags[i] for i in myKeys}\n",
    " \n",
    "print(sorted_mags)"
   ]
  },
  {
   "cell_type": "code",
   "execution_count": 22,
   "id": "6a086f3d",
   "metadata": {},
   "outputs": [],
   "source": [
    "pipeline = {}\n",
    "i = 0\n",
    "for obs_id in sorted_mags.keys():\n",
    "    obs_data = phot.loc[phot['SWIFT Target ID'] == obs_id]\n",
    "    if not obs_data.empty:\n",
    "        uv_filter_map = {'uw2': 'UVW2', 'uw1': 'UVW1', 'uuu': 'U', 'um2': 'UVM2'}\n",
    "        uv_filter = list(sorted_mags.values())[i][1]\n",
    "        pipeline_filter = uv_filter_map[uv_filter]\n",
    "        if len(obs_data[pipeline_filter].values) > 1:\n",
    "            if np.isnan(obs_data[pipeline_filter].values[1]):\n",
    "                pipeline_mag = obs_data[pipeline_filter].values[0]\n",
    "            elif obs_data[pipeline_filter].values[1]-sorted_mags[obs_id][0]>obs_data[pipeline_filter].values[0]-sorted_mags[obs_id][0]:\n",
    "                pipeline_mag = obs_data[pipeline_filter].values[0]\n",
    "            else:\n",
    "                pipeline_mag = obs_data[pipeline_filter].values[1]\n",
    "        else: \n",
    "            pipeline_mag = obs_data[pipeline_filter].values[0]\n",
    "        pipeline[obs_id] = pipeline_mag\n",
    "        i += 1"
   ]
  },
  {
   "cell_type": "code",
   "execution_count": 23,
   "id": "84cfc73d",
   "metadata": {},
   "outputs": [
    {
     "name": "stdout",
     "output_type": "stream",
     "text": [
      "[15.421921, 13.839274, 14.803541, 15.254102, 14.52573, 12.7354765, 13.823775, 16.38167, 15.562273, 13.562252, 13.60901, 12.208187, 14.359438, 13.248884, 12.561334, 13.5287285, 12.674561, 12.579492, 13.351262, 15.184244, 15.188243, 12.6928005]\n"
     ]
    },
    {
     "data": {
      "text/plain": [
       "<matplotlib.collections.PathCollection at 0x2b396fffecd0>"
      ]
     },
     "execution_count": 23,
     "metadata": {},
     "output_type": "execute_result"
    },
    {
     "data": {
      "image/png": "[encoded data removed]",
      "text/plain": [
       "<Figure size 640x480 with 1 Axes>"
      ]
     },
     "metadata": {},
     "output_type": "display_data"
    }
   ],
   "source": [
    "magni = []\n",
    "filters = []\n",
    "errs = []\n",
    "for i in list(sorted_mags.values()):\n",
    "    magni.append(i[0])\n",
    "    filters.append(i[1])\n",
    "    errs.append(i[2])\n",
    "print(magni)\n",
    "plt.plot(list(pipeline.values()),list(pipeline.values()), color='orange')\n",
    "# plt.errorbar(list(pipeline.values()),magni,yerr=errs,fmt='none', capsize=5)\n",
    "plt.scatter(list(pipeline.values()),magni, s=7)"
   ]
  },
  {
   "cell_type": "code",
   "execution_count": 24,
   "id": "4446e762",
   "metadata": {},
   "outputs": [
    {
     "data": {
      "text/plain": [
       "4.831277305603026"
      ]
     },
     "execution_count": 24,
     "metadata": {},
     "output_type": "execute_result"
    }
   ],
   "source": [
    "total = 0\n",
    "for i, mag in enumerate(magni):\n",
    "    if np.isnan(list(pipeline.values())[i]):\n",
    "        continue\n",
    "    total += mag - list(pipeline.values())[i]\n",
    "total"
   ]
  },
  {
   "cell_type": "code",
   "execution_count": 25,
   "id": "2c82930c",
   "metadata": {},
   "outputs": [
    {
     "data": {
      "image/png": "[encoded data removed]",
      "text/plain": [
       "<Figure size 1200x900 with 1 Axes>"
      ]
     },
     "metadata": {},
     "output_type": "display_data"
    }
   ],
   "source": [
    "marker_map = {'uw1': '^', 'uuu': 'o', 'um2': 's'}  # Example mapping\n",
    "\n",
    "magni = []\n",
    "filters = []\n",
    "errs = []\n",
    "labels = []\n",
    "\n",
    "for key, value in sorted_mags.items():\n",
    "    magni.append(value[0])\n",
    "    filters.append(value[1])\n",
    "    errs.append(value[2])\n",
    "    labels.append(key)\n",
    "\n",
    "plt.figure(figsize=(12,9))\n",
    "plt.plot(list(pipeline.values()), list(pipeline.values()), color='orange')\n",
    "\n",
    "legend_handles = []\n",
    "for filter_type, marker in marker_map.items():\n",
    "    # Create a legend entry for each filter type\n",
    "    legend_handle = mlines.Line2D([], [], color='black', marker=marker, linestyle='None', markersize=10, label=filter_type)\n",
    "    legend_handles.append(legend_handle)\n",
    "\n",
    "    # Plot points\n",
    "    for label, mag, fltr, err in zip(labels, magni, filters, errs):\n",
    "        if fltr == filter_type:\n",
    "            plt.scatter(pipeline[label], mag, s=25, marker=marker)\n",
    "#             plt.text(pipeline[label], mag, label)\n",
    "\n",
    "# Uncomment the next line if you want to include error bars\n",
    "# plt.errorbar(list(pipeline.values()), magni, yerr=errs, fmt='none', capsize=5)\n",
    "\n",
    "plt.legend(handles=legend_handles, title='Filters')\n",
    "plt.title(\"15\\\" Aperture Pipeline vs UVOT Photometry\")\n",
    "plt.xlabel(\"Pipeline Magnitudes\")\n",
    "plt.ylabel(\"UVOT Photometry Magnitudes\")\n",
    "plt.show()"
   ]
  },
  {
   "cell_type": "code",
   "execution_count": 26,
   "id": "fcd1850c",
   "metadata": {},
   "outputs": [],
   "source": [
    "filepath = f\"00096113001/uvot/image/maghist_uuu_5.000_00096113001.fits\"\n",
    "if os.path.exists(filepath):\n",
    "    # Read the FITS file and extract the data\n",
    "    mag_data = Table(fits.getdata(filepath))\n",
    "five = mag_data['AB_FLUX_AA']"
   ]
  },
  {
   "cell_type": "code",
   "execution_count": 27,
   "id": "0db04015",
   "metadata": {},
   "outputs": [],
   "source": [
    "filepath = f\"00096113001/uvot/image/maghist_uuu_15.000_00096113001_noapcorr.fits\"\n",
    "if os.path.exists(filepath):\n",
    "    # Read the FITS file and extract the data\n",
    "    mag_data = Table(fits.getdata(filepath))\n",
    "fifteen = mag_data['AB_FLUX_AA']"
   ]
  },
  {
   "cell_type": "code",
   "execution_count": 28,
   "id": "5338154e",
   "metadata": {},
   "outputs": [
    {
     "data": {
      "text/html": [
       "&lt;Column name=&apos;AB_FLUX_AA&apos; dtype=&apos;float32&apos; length=1&gt;\n",
       "<table>\n",
       "<tr><td>1.6740756</td></tr>\n",
       "</table>"
      ],
      "text/plain": [
       "<Column name='AB_FLUX_AA' dtype='float32' length=1>\n",
       "1.6740756"
      ]
     },
     "execution_count": 28,
     "metadata": {},
     "output_type": "execute_result"
    }
   ],
   "source": [
    "fifteen/five"
   ]
  },
  {
   "cell_type": "code",
   "execution_count": 113,
   "id": "4afa431f",
   "metadata": {},
   "outputs": [],
   "source": [
    "mags = {}\n",
    "rates = {}\n",
    "errs = {}\n",
    "uv_filter = 'uw1'\n",
    "\n",
    "i=0\n",
    "\n",
    "while i < len(directories):\n",
    "    obs_id = directories[i]\n",
    "    source_id = obs_id[3:8]  # Extract the middle 5 digits representing the source\n",
    "\n",
    "    file_found = False\n",
    "    for j in range(i, len(directories)):\n",
    "        if directories[j].startswith('000' + source_id):\n",
    "            filepath = f\"{directories[j]}/uvot/image/maghist_uw1_5.000_{directories[j]}.fits\"\n",
    "            if os.path.exists(filepath):\n",
    "                # Read the FITS file and extract the data\n",
    "                mag_data = Table(fits.getdata(filepath))\n",
    "\n",
    "                # Calculate the mean magnitude and error\n",
    "                flux1 = np.mean(mag_data['AB_FLUX_AA'])\n",
    "                rate1 = np.mean(mag_data['AP_COI_SRC_RATE'])\n",
    "                err1 = np.mean(mag_data['AB_FLUX_AA_ERR'])\n",
    "                file_found = True\n",
    "            filepath = f\"{directories[j]}/uvot/image/maghist_uw1_10.000_{directories[j]}_noapcorr.fits\"\n",
    "            if os.path.exists(filepath):\n",
    "                # Read the FITS file and extract the data\n",
    "                mag_data = Table(fits.getdata(filepath))\n",
    "\n",
    "                # Calculate the mean magnitude and error\n",
    "                flux2 = np.mean(mag_data['AB_FLUX_AA'])\n",
    "                rate2 = np.mean(mag_data['CORR_RATE'])\n",
    "                file_found = True\n",
    "                mags[directories[j][3:8]] = flux2/flux1\n",
    "                rates[directories[j][3:8]] = [rate2, filepath]\n",
    "                err2 = np.mean(mag_data['AB_FLUX_AA_ERR'])\n",
    "                errs[directories[j][3:8]] = (flux2/flux1)*np.sqrt((err1/flux1)**2+(err2/flux2)**2)\n",
    "                break\n",
    "        else:\n",
    "            break\n",
    "\n",
    "    if file_found:\n",
    "        # Skip to the next source\n",
    "        while i < len(directories) and directories[i].startswith('000' + source_id):\n",
    "            i += 1\n",
    "    else:\n",
    "        i += 1"
   ]
  },
  {
   "cell_type": "code",
   "execution_count": 114,
   "id": "f2b7f1d1",
   "metadata": {},
   "outputs": [
    {
     "data": {
      "text/plain": [
       "{'96107': [6.0822906,\n",
       "  '00096107002/uvot/image/maghist_uw1_10.000_00096107002_noapcorr.fits'],\n",
       " '96108': [14.808548,\n",
       "  '00096108001/uvot/image/maghist_uw1_10.000_00096108001_noapcorr.fits'],\n",
       " '96112': [71.20451,\n",
       "  '00096112001/uvot/image/maghist_uw1_10.000_00096112001_noapcorr.fits'],\n",
       " '96113': [20.136446,\n",
       "  '00096113003/uvot/image/maghist_uw1_10.000_00096113003_noapcorr.fits'],\n",
       " '96115': [2.1932054,\n",
       "  '00096115002/uvot/image/maghist_uw1_10.000_00096115002_noapcorr.fits'],\n",
       " '96117': [-999.0,\n",
       "  '00096117002/uvot/image/maghist_uw1_10.000_00096117002_noapcorr.fits'],\n",
       " '96118': [35.3136,\n",
       "  '00096118004/uvot/image/maghist_uw1_10.000_00096118004_noapcorr.fits'],\n",
       " '96119': [132.67862,\n",
       "  '00096119002/uvot/image/maghist_uw1_10.000_00096119002_noapcorr.fits'],\n",
       " '96120': [11.796856,\n",
       "  '00096120003/uvot/image/maghist_uw1_10.000_00096120003_noapcorr.fits'],\n",
       " '96123': [42.454746,\n",
       "  '00096123001/uvot/image/maghist_uw1_10.000_00096123001_noapcorr.fits'],\n",
       " '96125': [31.01199,\n",
       "  '00096125002/uvot/image/maghist_uw1_10.000_00096125002_noapcorr.fits'],\n",
       " '96127': [-492.44022,\n",
       "  '00096127002/uvot/image/maghist_uw1_10.000_00096127002_noapcorr.fits'],\n",
       " '96129': [82.775215,\n",
       "  '00096129001/uvot/image/maghist_uw1_10.000_00096129001_noapcorr.fits'],\n",
       " '96130': [-473.39502,\n",
       "  '00096130003/uvot/image/maghist_uw1_10.000_00096130003_noapcorr.fits'],\n",
       " '96131': [6.6965594,\n",
       "  '00096131006/uvot/image/maghist_uw1_10.000_00096131006_noapcorr.fits'],\n",
       " '96132': [7.250119,\n",
       "  '00096132002/uvot/image/maghist_uw1_10.000_00096132002_noapcorr.fits'],\n",
       " '96133': [74.267136,\n",
       "  '00096133003/uvot/image/maghist_uw1_10.000_00096133003_noapcorr.fits']}"
      ]
     },
     "execution_count": 114,
     "metadata": {},
     "output_type": "execute_result"
    }
   ],
   "source": [
    "rates"
   ]
  },
  {
   "cell_type": "code",
   "execution_count": 30,
   "id": "d08aa89b",
   "metadata": {
    "scrolled": false
   },
   "outputs": [
    {
     "data": {
      "text/plain": [
       "<matplotlib.legend.Legend at 0x2b396f74bc50>"
      ]
     },
     "execution_count": 30,
     "metadata": {},
     "output_type": "execute_result"
    },
    {
     "data": {
      "image/png": "[encoded data removed]",
      "text/plain": [
       "<Figure size 1500x1200 with 1 Axes>"
      ]
     },
     "metadata": {},
     "output_type": "display_data"
    }
   ],
   "source": [
    "plt.figure(figsize=(15,12))\n",
    "plt.errorbar(mags.keys(), mags.values(), yerr=list(errs.values()), marker='o', markersize=5, linestyle='none', label='Flux Ratios')\n",
    "# plt.scatter(rates.keys(), rates.values(), label='Count Rates Ratio')\n",
    "plt.title('UW1 Filter')\n",
    "plt.axhline(1.11, color='red')\n",
    "plt.xlabel('Sources')\n",
    "plt.ylabel('Flux Ratio (5\" & 10\")')\n",
    "plt.legend()"
   ]
  },
  {
   "cell_type": "code",
   "execution_count": 31,
   "id": "851dd3ae",
   "metadata": {},
   "outputs": [],
   "source": [
    "mags = {}\n",
    "rates = {}\n",
    "errs = {}\n",
    "uv_filter = 'uuu'\n",
    "\n",
    "i=0\n",
    "\n",
    "while i < len(directories):\n",
    "    obs_id = directories[i]\n",
    "    source_id = obs_id[3:8]  # Extract the middle 5 digits representing the source\n",
    "\n",
    "    file_found = False\n",
    "    for j in range(i, len(directories)):\n",
    "        if directories[j].startswith('000' + source_id):\n",
    "            filepath = f\"{directories[j]}/uvot/image/maghist_uuu_5.000_{directories[j]}.fits\"\n",
    "            if os.path.exists(filepath):\n",
    "                # Read the FITS file and extract the data\n",
    "                mag_data = Table(fits.getdata(filepath))\n",
    "\n",
    "                # Calculate the mean magnitude and error\n",
    "                flux1 = np.mean(mag_data['AB_FLUX_AA'])\n",
    "                rate1 = np.mean(mag_data['AP_COI_SRC_RATE'])\n",
    "                err1 = np.mean(mag_data['AB_FLUX_AA_ERR'])\n",
    "                file_found = True\n",
    "            filepath = f\"{directories[j]}/uvot/image/maghist_uuu_10.000_{directories[j]}_noapcorr.fits\"\n",
    "            if os.path.exists(filepath):\n",
    "                # Read the FITS file and extract the data\n",
    "                mag_data = Table(fits.getdata(filepath))\n",
    "\n",
    "                # Calculate the mean magnitude and error\n",
    "                flux2 = np.mean(mag_data['AB_FLUX_AA'])\n",
    "                rate2 = np.mean(mag_data['AP_COI_SRC_RATE'])\n",
    "                file_found = True\n",
    "                mags[directories[j][3:8]] = flux2/flux1\n",
    "                rates[directories[j][3:8]] = rate2/rate1\n",
    "                err2 = np.mean(mag_data['AB_FLUX_AA_ERR'])\n",
    "                errs[directories[j][3:8]] = (flux2/flux1)*np.sqrt((err1/flux1)**2+(err2/flux2)**2)\n",
    "                break\n",
    "        else:\n",
    "            break\n",
    "\n",
    "    if file_found:\n",
    "        # Skip to the next source\n",
    "        while i < len(directories) and directories[i].startswith('000' + source_id):\n",
    "            i += 1\n",
    "    else:\n",
    "        i += 1"
   ]
  },
  {
   "cell_type": "code",
   "execution_count": 32,
   "id": "ce277d6c",
   "metadata": {},
   "outputs": [
    {
     "data": {
      "text/plain": [
       "<matplotlib.legend.Legend at 0x2b3970103850>"
      ]
     },
     "execution_count": 32,
     "metadata": {},
     "output_type": "execute_result"
    },
    {
     "data": {
      "image/png": "[encoded data removed]",
      "text/plain": [
       "<Figure size 1500x1200 with 1 Axes>"
      ]
     },
     "metadata": {},
     "output_type": "display_data"
    }
   ],
   "source": [
    "plt.figure(figsize=(15,12))\n",
    "plt.errorbar(mags.keys(), mags.values(), yerr=list(errs.values()), marker='o', markersize=5, linestyle='none', label='Flux Ratios')\n",
    "# plt.scatter(rates.keys(), rates.values(), label='Count Rates Ratio')\n",
    "plt.axhline(1.13, color='red')\n",
    "plt.xlabel('Sources')\n",
    "plt.ylabel('Flux Ratio')\n",
    "plt.title('U Filter')\n",
    "plt.legend()"
   ]
  },
  {
   "cell_type": "code",
   "execution_count": 129,
   "id": "5bade34a",
   "metadata": {},
   "outputs": [],
   "source": [
    "mags = {}\n",
    "rates = {}\n",
    "errs = {}\n",
    "uv_filter = 'um2'\n",
    "\n",
    "i=0\n",
    "\n",
    "while i < len(directories):\n",
    "    obs_id = directories[i]\n",
    "    source_id = obs_id[3:8]  # Extract the middle 5 digits representing the source\n",
    "\n",
    "    file_found = False\n",
    "    for j in range(i, len(directories)):\n",
    "        if directories[j].startswith('000' + source_id):\n",
    "            filepath = f\"{directories[j]}/uvot/image/maghist_um2_5.000_{directories[j]}.fits\"\n",
    "            if os.path.exists(filepath):\n",
    "                # Read the FITS file and extract the data\n",
    "                mag_data = Table(fits.getdata(filepath))\n",
    "\n",
    "                # Calculate the mean magnitude and error\n",
    "                flux1 = np.mean(mag_data['AB_FLUX_AA'])\n",
    "                rate1 = np.mean(mag_data['AP_COI_SRC_RATE'])\n",
    "                err1 = np.mean(mag_data['AB_FLUX_AA_ERR'])\n",
    "                file_found = True\n",
    "            filepath = f\"{directories[j]}/uvot/image/maghist_um2_10.000_{directories[j]}_noapcorr.fits\"\n",
    "            if os.path.exists(filepath):\n",
    "                # Read the FITS file and extract the data\n",
    "                mag_data = Table(fits.getdata(filepath))\n",
    "\n",
    "                # Calculate the mean magnitude and error\n",
    "                flux2 = np.mean(mag_data['AB_FLUX_AA'])\n",
    "                rate2 = np.mean(mag_data['AP_COI_SRC_RATE'])\n",
    "                file_found = True\n",
    "                mags[directories[j][3:8]] = flux2/flux1\n",
    "                rates[directories[j][3:8]] = rate2/rate1\n",
    "                err2 = np.mean(mag_data['AB_FLUX_AA_ERR'])\n",
    "                errs[directories[j][3:8]] = (flux2/flux1)*np.sqrt((err1/flux1)**2+(err2/flux2)**2)\n",
    "                break\n",
    "        else:\n",
    "            break\n",
    "\n",
    "    if file_found:\n",
    "        # Skip to the next source\n",
    "        while i < len(directories) and directories[i].startswith('000' + source_id):\n",
    "            i += 1\n",
    "    else:\n",
    "        i += 1"
   ]
  },
  {
   "cell_type": "code",
   "execution_count": 34,
   "id": "f3ff32bb",
   "metadata": {},
   "outputs": [
    {
     "data": {
      "text/plain": [
       "<matplotlib.legend.Legend at 0x2b396f140e90>"
      ]
     },
     "execution_count": 34,
     "metadata": {},
     "output_type": "execute_result"
    },
    {
     "data": {
      "image/png": "[encoded data removed]",
      "text/plain": [
       "<Figure size 1500x1200 with 1 Axes>"
      ]
     },
     "metadata": {},
     "output_type": "display_data"
    }
   ],
   "source": [
    "plt.figure(figsize=(15,12))\n",
    "plt.scatter(mags.keys(), mags.values(), label='Flux Ratio')\n",
    "# plt.scatter(rates.keys(), rates.values(), label='Count Rates Ratio')\n",
    "plt.xlabel('Sources')\n",
    "plt.ylabel('Flux/Count Rates Ratio')\n",
    "plt.legend()"
   ]
  },
  {
   "cell_type": "code",
   "execution_count": 35,
   "id": "08e403b1",
   "metadata": {},
   "outputs": [
    {
     "data": {
      "text/plain": [
       "<matplotlib.legend.Legend at 0x2b39701fb850>"
      ]
     },
     "execution_count": 35,
     "metadata": {},
     "output_type": "execute_result"
    },
    {
     "data": {
      "image/png": "[encoded data removed]",
      "text/plain": [
       "<Figure size 1500x1200 with 1 Axes>"
      ]
     },
     "metadata": {},
     "output_type": "display_data"
    }
   ],
   "source": [
    "plt.figure(figsize=(15,12))\n",
    "plt.errorbar(mags.keys(), mags.values(), yerr=list(errs.values()), marker='o', markersize=5, linestyle='none', label='Flux Ratios')\n",
    "plt.scatter(rates.keys(), rates.values(), label='Count Rates Ratio')\n",
    "plt.axhline(1.12, color='red')\n",
    "plt.xlabel('Sources')\n",
    "plt.ylabel('Flux Ratio')\n",
    "plt.title('UVM2 Filter')\n",
    "plt.legend()"
   ]
  },
  {
   "cell_type": "code",
   "execution_count": 36,
   "id": "b93d5a91",
   "metadata": {},
   "outputs": [
    {
     "data": {
      "text/plain": [
       "{'96107': 1.1333115,\n",
       " '96108': 1.5327244,\n",
       " '96109': 1.1234668,\n",
       " '96110': 1.1058257,\n",
       " '96112': 1.1024538,\n",
       " '96113': 1.2315093,\n",
       " '96114': 1.357998,\n",
       " '96115': 1.377619,\n",
       " '96116': 1.126328,\n",
       " '96117': 1.1125844,\n",
       " '96118': 1.1598724,\n",
       " '96119': 1.1011415,\n",
       " '96120': 1.3683425,\n",
       " '96121': 1.1394674,\n",
       " '96122': 1.0945702,\n",
       " '96123': 2.6312613,\n",
       " '96129': 1.0838163,\n",
       " '96131': 1.0949371,\n",
       " '96132': 1.1051512,\n",
       " '96133': 1.0975391}"
      ]
     },
     "execution_count": 36,
     "metadata": {},
     "output_type": "execute_result"
    }
   ],
   "source": [
    "rates"
   ]
  },
  {
   "cell_type": "code",
   "execution_count": 136,
   "id": "82d41862",
   "metadata": {},
   "outputs": [],
   "source": [
    "filepath = f\"00096115002/uvot/image/maghist_uw1_5.000_00096115002_noapcorr.fits\"\n",
    "if os.path.exists(filepath):\n",
    "    # Read the FITS file and extract the data\n",
    "    mag_data = Table(fits.getdata(filepath))"
   ]
  },
  {
   "cell_type": "code",
   "execution_count": 138,
   "id": "033e2eb0",
   "metadata": {},
   "outputs": [
    {
     "data": {
      "text/html": [
       "<div><i>Table length=4</i>\n",
       "<table id=\"table47525702362128\" class=\"table-striped table-bordered table-condensed\">\n",
       "<thead><tr><th>MET</th><th>EXTNAME</th><th>TSTART</th><th>TSTOP</th><th>EXPOSURE</th><th>TELAPSE</th><th>TIME</th><th>SRC_AREA</th><th>BKG_AREA</th><th>STD_AREA</th><th>PLATE_SCALE</th><th>RAW_TOT_CNTS</th><th>RAW_TOT_CNTS_ERR</th><th>RAW_BKG_CNTS</th><th>RAW_BKG_CNTS_ERR</th><th>RAW_STD_CNTS</th><th>RAW_STD_CNTS_ERR</th><th>RAW_TOT_RATE</th><th>RAW_TOT_RATE_ERR</th><th>RAW_BKG_RATE</th><th>RAW_BKG_RATE_ERR</th><th>RAW_STD_RATE</th><th>RAW_STD_RATE_ERR</th><th>COI_STD_FACTOR</th><th>COI_STD_FACTOR_ERR</th><th>COI_BKG_FACTOR</th><th>COI_BKG_FACTOR_ERR</th><th>COI_TOT_RATE</th><th>COI_TOT_RATE_ERR</th><th>COI_BKG_RATE</th><th>COI_BKG_RATE_ERR</th><th>COI_SRC_RATE</th><th>COI_SRC_RATE_ERR</th><th>AP_FACTOR</th><th>AP_FACTOR_ERR</th><th>AP_COI_SRC_RATE</th><th>AP_COI_SRC_RATE_ERR</th><th>LSS_FACTOR</th><th>LSS_RATE</th><th>LSS_RATE_ERR</th><th>SSS_FACTOR</th><th>SSS_RATE</th><th>SSS_RATE_ERR</th><th>SENSCORR_FACTOR</th><th>SENSCORR_RATE</th><th>SENSCORR_RATE_ERR</th><th>CORR_RATE</th><th>CORR_RATE_ERR</th><th>AB_MAG</th><th>AB_MAG_ERR</th><th>AB_MAG_ERR_STAT</th><th>AB_MAG_ERR_SYS</th><th>AB_MAG_BKG</th><th>AB_MAG_BKG_ERR_STAT</th><th>AB_MAG_BKG_ERR_SYS</th><th>AB_MAG_BKG_ERR</th><th>AB_MAG_LIM</th><th>AB_MAG_LIM_SIG</th><th>AB_MAG_COI_LIM</th><th>AB_FLUX_AA</th><th>AB_FLUX_AA_ERR_STAT</th><th>AB_FLUX_AA_ERR_SYS</th><th>AB_FLUX_AA_ERR</th><th>AB_FLUX_AA_BKG</th><th>AB_FLUX_AA_BKG_ERR_STAT</th><th>AB_FLUX_AA_BKG_ERR_SYS</th><th>AB_FLUX_AA_BKG_ERR</th><th>AB_FLUX_AA_LIM</th><th>AB_FLUX_AA_COI_LIM</th><th>AB_FLUX_HZ</th><th>AB_FLUX_HZ_ERR_STAT</th><th>AB_FLUX_HZ_ERR_SYS</th><th>AB_FLUX_HZ_ERR</th><th>AB_FLUX_HZ_BKG</th><th>AB_FLUX_HZ_BKG_ERR_STAT</th><th>AB_FLUX_HZ_BKG_ERR_SYS</th><th>AB_FLUX_HZ_BKG_ERR</th><th>AB_FLUX_HZ_LIM</th><th>AB_FLUX_HZ_COI_LIM</th><th>MAG</th><th>MAG_ERR</th><th>MAG_ERR_STAT</th><th>MAG_ERR_SYS</th><th>MAG_BKG</th><th>MAG_BKG_ERR_STAT</th><th>MAG_BKG_ERR_SYS</th><th>MAG_BKG_ERR</th><th>MAG_LIM</th><th>MAG_LIM_SIG</th><th>MAG_COI_LIM</th><th>FLUX_AA</th><th>FLUX_AA_ERR_STAT</th><th>FLUX_AA_ERR_SYS</th><th>FLUX_AA_ERR</th><th>FLUX_AA_BKG</th><th>FLUX_AA_BKG_ERR_STAT</th><th>FLUX_AA_BKG_ERR_SYS</th><th>FLUX_AA_BKG_ERR</th><th>FLUX_AA_LIM</th><th>FLUX_AA_COI_LIM</th><th>FLUX_HZ</th><th>FLUX_HZ_ERR_STAT</th><th>FLUX_HZ_ERR_SYS</th><th>FLUX_HZ_ERR</th><th>FLUX_HZ_BKG</th><th>FLUX_HZ_BKG_ERR_STAT</th><th>FLUX_HZ_BKG_ERR_SYS</th><th>FLUX_HZ_BKG_ERR</th><th>FLUX_HZ_LIM</th><th>FLUX_HZ_COI_LIM</th><th>COI_RATE_LIMIT</th><th>CORR_RATE_LIMIT</th><th>FILTER</th><th>RA</th><th>DEC</th><th>DETX</th><th>DETY</th><th>NSIGMA</th><th>FRAMTIME</th><th>SATURATED</th><th>SYS_ERR</th><th>SRCEXP</th><th>BKGEXP</th><th>QUALFLAG</th><th>PHOTFLAG</th><th>CORRFLAG</th></tr></thead>\n",
       "<thead><tr><th>float64</th><th>str12</th><th>float64</th><th>float64</th><th>float32</th><th>float32</th><th>float64</th><th>float32</th><th>float32</th><th>float32</th><th>float32</th><th>float32</th><th>float32</th><th>float32</th><th>float32</th><th>float32</th><th>float32</th><th>float32</th><th>float32</th><th>float32</th><th>float32</th><th>float32</th><th>float32</th><th>float32</th><th>float32</th><th>float32</th><th>float32</th><th>float32</th><th>float32</th><th>float32</th><th>float32</th><th>float32</th><th>float32</th><th>float32</th><th>float32</th><th>float32</th><th>float32</th><th>float32</th><th>float32</th><th>float32</th><th>float32</th><th>float32</th><th>float32</th><th>float32</th><th>float32</th><th>float32</th><th>float32</th><th>float32</th><th>float32</th><th>float32</th><th>float32</th><th>float32</th><th>float32</th><th>float32</th><th>float32</th><th>float32</th><th>float32</th><th>float32</th><th>float32</th><th>float32</th><th>float32</th><th>float32</th><th>float32</th><th>float32</th><th>float32</th><th>float32</th><th>float32</th><th>float32</th><th>float32</th><th>float32</th><th>float32</th><th>float32</th><th>float32</th><th>float32</th><th>float32</th><th>float32</th><th>float32</th><th>float32</th><th>float32</th><th>float32</th><th>float32</th><th>float32</th><th>float32</th><th>float32</th><th>float32</th><th>float32</th><th>float32</th><th>float32</th><th>float32</th><th>float32</th><th>float32</th><th>float32</th><th>float32</th><th>float32</th><th>float32</th><th>float32</th><th>float32</th><th>float32</th><th>float32</th><th>float32</th><th>float32</th><th>float32</th><th>float32</th><th>float32</th><th>float32</th><th>float32</th><th>float32</th><th>float32</th><th>float32</th><th>float32</th><th>float32</th><th>float32</th><th>str8</th><th>float64</th><th>float64</th><th>float32</th><th>float32</th><th>float32</th><th>float32</th><th>int16</th><th>bool</th><th>float32</th><th>float32</th><th>int32</th><th>int32</th><th>int32</th></tr></thead>\n",
       "<tr><td>645016110.48891</td><td>w1645015900I</td><td>645015900.036</td><td>645016320.94182</td><td>414.26727</td><td>420.90582</td><td>210.48891139030457</td><td>78.420616</td><td>9676.953</td><td>78.420616</td><td>1.004</td><td>663.314</td><td>25.530018</td><td>18174.207</td><td>134.54604</td><td>663.314</td><td>25.530018</td><td>1.6011661</td><td>0.061626617</td><td>0.004533497</td><td>3.3562075e-05</td><td>1.6011661</td><td>0.061626617</td><td>1.0099249</td><td>0.039213452</td><td>1.002189</td><td>0.0074337036</td><td>1.6170576</td><td>0.06278725</td><td>0.0045434213</td><td>3.3700675e-05</td><td>1.2607597</td><td>0.062842846</td><td>1.0</td><td>1.0</td><td>1.2607597</td><td>0.062842846</td><td>1.0074518</td><td>1.2514342</td><td>0.06237802</td><td>1.0</td><td>1.2514342</td><td>0.06237802</td><td>1.2837</td><td>1.6064662</td><td>0.08007466</td><td>1.6064662</td><td>0.08007466</td><td>18.435322</td><td>0.054118764</td><td>0.054118764</td><td>0.03</td><td>24.806543</td><td>0.008053412</td><td>0.03</td><td>0.008053412</td><td>21.178696</td><td>3.0</td><td>12.52296</td><td>7.426693e-16</td><td>3.7018516e-17</td><td>2.2490526e-17</td><td>3.7018516e-17</td><td>2.1004237e-18</td><td>1.5579822e-20</td><td>6.3607895e-20</td><td>1.5579822e-20</td><td>5.935336e-17</td><td>1.7208377e-13</td><td>0.15310064</td><td>0.007631336</td><td>0.0046364027</td><td>0.007631336</td><td>0.00043300056</td><td>3.211767e-06</td><td>1.3112714e-05</td><td>3.211767e-06</td><td>0.012235645</td><td>35.474922</td><td>16.925322</td><td>0.054118764</td><td>0.054118764</td><td>0.03</td><td>23.296543</td><td>0.008053412</td><td>0.03</td><td>0.008053412</td><td>19.668697</td><td>3.0</td><td>11.01296</td><td>6.7616157e-16</td><td>3.3703424e-17</td><td>2.088406e-17</td><td>3.3703424e-17</td><td>1.912326e-18</td><td>1.4184614e-20</td><td>5.9064476e-20</td><td>1.4184614e-20</td><td>5.4038134e-17</td><td>1.5667329e-13</td><td>0.15141352</td><td>0.0075472402</td><td>0.0046765874</td><td>0.0075472402</td><td>0.000428229</td><td>3.176374e-06</td><td>1.3226364e-05</td><td>3.176374e-06</td><td>0.012100811</td><td>35.083996</td><td>0.100758605</td><td>0.12838711</td><td>UVW1</td><td>31.5665725</td><td>-0.291306666666667</td><td>775.2666</td><td>1002.0239</td><td>20.194391</td><td>0.0110322</td><td>0</td><td>False</td><td>414.26932</td><td>414.27</td><td>-999</td><td>2</td><td>0</td></tr>\n",
       "<tr><td>645050125.5057</td><td>w1645049850I</td><td>645049850.15716</td><td>645050400.85424</td><td>542.0115</td><td>550.6971</td><td>34225.50570130348</td><td>78.451866</td><td>9676.953</td><td>78.451866</td><td>1.004</td><td>795.406</td><td>27.97734</td><td>21152.914</td><td>145.18544</td><td>795.406</td><td>27.97734</td><td>1.4675093</td><td>0.051617675</td><td>0.0040329634</td><td>2.7680702e-05</td><td>1.4675093</td><td>0.051617675</td><td>1.00909</td><td>0.03577998</td><td>1.0019478</td><td>0.0068888287</td><td>1.4808488</td><td>0.052507453</td><td>0.0040408187</td><td>2.7782395e-05</td><td>1.163839</td><td>0.05255267</td><td>1.0</td><td>1.0</td><td>1.163839</td><td>0.05255267</td><td>1.0056363</td><td>1.157316</td><td>0.052258126</td><td>1.0</td><td>1.157316</td><td>0.052258126</td><td>1.2837</td><td>1.4856465</td><td>0.06708375</td><td>1.4856465</td><td>0.06708375</td><td>18.520212</td><td>0.04902597</td><td>0.04902597</td><td>0.03</td><td>24.933826</td><td>0.0074649113</td><td>0.03</td><td>0.0074649113</td><td>21.396563</td><td>3.0</td><td>12.52296</td><td>6.868144e-16</td><td>3.101282e-17</td><td>2.0799051e-17</td><td>3.101282e-17</td><td>1.8680704e-18</td><td>1.28438006e-20</td><td>5.657146e-20</td><td>1.28438006e-20</td><td>4.8562278e-17</td><td>1.7208377e-13</td><td>0.1415862</td><td>0.0063932664</td><td>0.0042877067</td><td>0.0063932664</td><td>0.00038510113</td><td>2.6477387e-06</td><td>1.1662158e-05</td><td>2.6477387e-06</td><td>0.010011072</td><td>35.474922</td><td>17.010212</td><td>0.04902597</td><td>0.04902597</td><td>0.03</td><td>23.423826</td><td>0.0074649113</td><td>0.03</td><td>0.0074649113</td><td>19.886562</td><td>3.0</td><td>11.01296</td><td>6.2530863e-16</td><td>2.8235552e-17</td><td>1.9313405e-17</td><td>2.8235552e-17</td><td>1.7007805e-18</td><td>1.169361e-20</td><td>5.253064e-20</td><td>1.169361e-20</td><td>4.421342e-17</td><td>1.5667329e-13</td><td>0.14002596</td><td>0.006322814</td><td>0.0043248693</td><td>0.006322814</td><td>0.00038085738</td><td>2.6185612e-06</td><td>1.1763236e-05</td><td>2.6185612e-06</td><td>0.009900752</td><td>35.083996</td><td>0.082291044</td><td>0.105044946</td><td>UVW1</td><td>31.5665725</td><td>-0.291306666666667</td><td>850.7212</td><td>988.6225</td><td>22.281097</td><td>0.0110322</td><td>0</td><td>False</td><td>542.01086</td><td>542.01</td><td>-999</td><td>2</td><td>0</td></tr>\n",
       "<tr><td>645055834.78165</td><td>w1645055268I</td><td>645055268.5447</td><td>645056401.0186</td><td>1114.6125</td><td>1132.4739</td><td>39934.781638503075</td><td>78.43574</td><td>9676.953</td><td>78.43574</td><td>1.004</td><td>1585.57</td><td>39.510494</td><td>44602.246</td><td>210.81279</td><td>1585.57</td><td>39.510494</td><td>1.4225243</td><td>0.035447594</td><td>0.004135187</td><td>1.9544987e-05</td><td>1.4225243</td><td>0.035447594</td><td>1.0088091</td><td>0.025334986</td><td>1.0019968</td><td>0.004744308</td><td>1.4350555</td><td>0.036039636</td><td>0.004143444</td><td>1.9618601e-05</td><td>1.1100614</td><td>0.03607247</td><td>1.0</td><td>1.0</td><td>1.1100614</td><td>0.03607247</td><td>1.0119495</td><td>1.0969533</td><td>0.03564651</td><td>1.0</td><td>1.0969533</td><td>0.03564651</td><td>1.2837</td><td>1.408159</td><td>0.045759425</td><td>1.408159</td><td>0.045759425</td><td>18.578371</td><td>0.035282</td><td>0.035282</td><td>0.03</td><td>24.906597</td><td>0.005140802</td><td>0.03</td><td>0.005140802</td><td>21.819958</td><td>3.0</td><td>12.52296</td><td>6.509919e-16</td><td>2.1154583e-17</td><td>1.9714225e-17</td><td>2.1154583e-17</td><td>1.9155141e-18</td><td>9.069679e-21</td><td>5.800822e-20</td><td>9.069679e-21</td><td>3.2880684e-17</td><td>1.7208377e-13</td><td>0.13420142</td><td>0.004360999</td><td>0.004064071</td><td>0.004360999</td><td>0.00039488162</td><td>1.8697066e-06</td><td>1.1958345e-05</td><td>1.8697066e-06</td><td>0.006778325</td><td>35.474922</td><td>17.06837</td><td>0.035282</td><td>0.035282</td><td>0.03</td><td>23.396597</td><td>0.005140802</td><td>0.03</td><td>0.005140802</td><td>20.309958</td><td>3.0</td><td>11.01296</td><td>5.926941e-16</td><td>1.9260143e-17</td><td>1.8306066e-17</td><td>1.9260143e-17</td><td>1.7439755e-18</td><td>8.2574694e-21</td><td>5.386477e-20</td><td>8.2574694e-21</td><td>2.9936146e-17</td><td>1.5667329e-13</td><td>0.13272256</td><td>0.004312942</td><td>0.004099295</td><td>0.004312942</td><td>0.0003905301</td><td>1.8491029e-06</td><td>1.206199e-05</td><td>1.8491029e-06</td><td>0.006703629</td><td>35.083996</td><td>0.056067638</td><td>0.07112413</td><td>UVW1</td><td>31.5665725</td><td>-0.291306666666667</td><td>670.0689</td><td>913.5244</td><td>30.951391</td><td>0.0110322</td><td>0</td><td>False</td><td>1114.6172</td><td>1114.61</td><td>-999</td><td>2</td><td>0</td></tr>\n",
       "<tr><td>645061961.26184</td><td>w1645061521I</td><td>645061521.50628</td><td>645062401.0174</td><td>865.63947</td><td>879.5111</td><td>46061.26183414459</td><td>78.51537</td><td>9676.953</td><td>78.51537</td><td>1.004</td><td>1321.77</td><td>36.05351</td><td>38834.21</td><td>196.66678</td><td>1321.77</td><td>36.05351</td><td>1.5269353</td><td>0.04164974</td><td>0.0046359473</td><td>2.3477673e-05</td><td>1.5269353</td><td>0.04164974</td><td>1.009461</td><td>0.027766215</td><td>1.0022414</td><td>0.00508568</td><td>1.5413817</td><td>0.042397216</td><td>0.004646338</td><td>2.3576948e-05</td><td>1.1765728</td><td>0.04243761</td><td>1.0</td><td>1.0</td><td>1.1765728</td><td>0.04243761</td><td>1.0064585</td><td>1.1690226</td><td>0.042165283</td><td>1.0</td><td>1.1690226</td><td>0.042165283</td><td>1.2837</td><td>1.5006744</td><td>0.054127574</td><td>1.5006744</td><td>0.054127574</td><td>18.509283</td><td>0.03916124</td><td>0.03916124</td><td>0.03</td><td>24.782223</td><td>0.005509359</td><td>0.03</td><td>0.005509359</td><td>21.607445</td><td>3.0</td><td>12.52296</td><td>6.9376175e-16</td><td>2.5023176e-17</td><td>2.100944e-17</td><td>2.5023176e-17</td><td>2.1480021e-18</td><td>1.08996224e-20</td><td>6.5048734e-20</td><td>1.08996224e-20</td><td>3.998947e-17</td><td>1.7208377e-13</td><td>0.1430184</td><td>0.005158507</td><td>0.0043310784</td><td>0.005158507</td><td>0.0004428088</td><td>2.2469478e-06</td><td>1.3409741e-05</td><td>2.2469478e-06</td><td>0.0082437955</td><td>35.474922</td><td>16.999285</td><td>0.03916124</td><td>0.03916124</td><td>0.03</td><td>23.272223</td><td>0.005509359</td><td>0.03</td><td>0.005509359</td><td>20.097446</td><td>3.0</td><td>11.01296</td><td>6.3163385e-16</td><td>2.2782294e-17</td><td>1.9508767e-17</td><td>2.2782294e-17</td><td>1.9556438e-18</td><td>9.923537e-21</td><td>6.0402396e-20</td><td>9.923537e-21</td><td>3.6408325e-17</td><td>1.5667329e-13</td><td>0.14144236</td><td>0.005101661</td><td>0.0043686167</td><td>0.005101661</td><td>0.00043792915</td><td>2.222187e-06</td><td>1.3525966e-05</td><td>2.222187e-06</td><td>0.008152951</td><td>35.083996</td><td>0.067819424</td><td>0.08650112</td><td>UVW1</td><td>31.5665725</td><td>-0.291306666666667</td><td>773.4313</td><td>1111.9973</td><td>27.894651</td><td>0.0110322</td><td>0</td><td>False</td><td>865.63586</td><td>865.64</td><td>-999</td><td>2</td><td>0</td></tr>\n",
       "</table></div>"
      ],
      "text/plain": [
       "<Table length=4>\n",
       "      MET         EXTNAME         TSTART     ... QUALFLAG PHOTFLAG CORRFLAG\n",
       "    float64        str12         float64     ...  int32    int32    int32  \n",
       "--------------- ------------ --------------- ... -------- -------- --------\n",
       "645016110.48891 w1645015900I   645015900.036 ...     -999        2        0\n",
       " 645050125.5057 w1645049850I 645049850.15716 ...     -999        2        0\n",
       "645055834.78165 w1645055268I  645055268.5447 ...     -999        2        0\n",
       "645061961.26184 w1645061521I 645061521.50628 ...     -999        2        0"
      ]
     },
     "execution_count": 138,
     "metadata": {},
     "output_type": "execute_result"
    }
   ],
   "source": [
    "mag_data"
   ]
  },
  {
   "cell_type": "code",
   "execution_count": 120,
   "id": "35de1620",
   "metadata": {},
   "outputs": [],
   "source": [
    "filepath = f\"00096127002/uvot/image/maghist_uw1_10.000_00096127002_noapcorr.fits\"\n",
    "if os.path.exists(filepath):\n",
    "    # Read the FITS file and extract the data\n",
    "    mag_data = Table(fits.getdata(filepath))"
   ]
  },
  {
   "cell_type": "code",
   "execution_count": 122,
   "id": "0e632109",
   "metadata": {},
   "outputs": [
    {
     "data": {
      "text/plain": [
       "0.0033465163"
      ]
     },
     "execution_count": 122,
     "metadata": {},
     "output_type": "execute_result"
    }
   ],
   "source": [
    "mag_data['RAW_BKG_RATE'].mean()"
   ]
  },
  {
   "cell_type": "code",
   "execution_count": 123,
   "id": "ff3c6cb9",
   "metadata": {},
   "outputs": [],
   "source": [
    "filepath = f\"00096114001/uvot/image/maghist_um2_10.000_00096114001_noapcorr.fits\"\n",
    "if os.path.exists(filepath):\n",
    "    # Read the FITS file and extract the data\n",
    "    mag_data = Table(fits.getdata(filepath))"
   ]
  },
  {
   "cell_type": "code",
   "execution_count": 124,
   "id": "379067c8",
   "metadata": {},
   "outputs": [
    {
     "data": {
      "text/plain": [
       "0.0008399147"
      ]
     },
     "execution_count": 124,
     "metadata": {},
     "output_type": "execute_result"
    }
   ],
   "source": [
    "mag_data['RAW_BKG_RATE'].mean()"
   ]
  },
  {
   "cell_type": "code",
   "execution_count": 125,
   "id": "b4d5ffcf",
   "metadata": {},
   "outputs": [],
   "source": [
    "filepath = f\"00096108001/uvot/image/maghist_um2_10.000_00096108001_noapcorr.fits\"\n",
    "if os.path.exists(filepath):\n",
    "    # Read the FITS file and extract the data\n",
    "    mag_data = Table(fits.getdata(filepath))"
   ]
  },
  {
   "cell_type": "code",
   "execution_count": 126,
   "id": "4345969e",
   "metadata": {},
   "outputs": [
    {
     "data": {
      "text/plain": [
       "0.0009366283"
      ]
     },
     "execution_count": 126,
     "metadata": {},
     "output_type": "execute_result"
    }
   ],
   "source": [
    "mag_data['RAW_BKG_RATE'].mean()"
   ]
  },
  {
   "cell_type": "code",
   "execution_count": 127,
   "id": "c0134727",
   "metadata": {},
   "outputs": [],
   "source": [
    "filepath = f\"00096132002/uvot/image/maghist_uw1_10.000_00096132002_noapcorr.fits\"\n",
    "if os.path.exists(filepath):\n",
    "    # Read the FITS file and extract the data\n",
    "    mag_data = Table(fits.getdata(filepath))"
   ]
  },
  {
   "cell_type": "code",
   "execution_count": 128,
   "id": "26eb8d15",
   "metadata": {},
   "outputs": [
    {
     "data": {
      "text/plain": [
       "0.0025054049"
      ]
     },
     "execution_count": 128,
     "metadata": {},
     "output_type": "execute_result"
    }
   ],
   "source": [
    "mag_data['RAW_BKG_RATE'].mean()"
   ]
  },
  {
   "cell_type": "code",
   "execution_count": 133,
   "id": "100e358c",
   "metadata": {},
   "outputs": [],
   "source": [
    "filepath = f\"00096115002/uvot/image/photoUW1.fits\"\n",
    "if os.path.exists(filepath):\n",
    "    # Read the FITS file and extract the data\n",
    "    mag_data = Table(fits.getdata(filepath))"
   ]
  },
  {
   "cell_type": "code",
   "execution_count": 135,
   "id": "26c9e74b",
   "metadata": {},
   "outputs": [
    {
     "data": {
      "text/html": [
       "<div><i>Table length=4</i>\n",
       "<table id=\"table47525695045328\" class=\"table-striped table-bordered table-condensed\">\n",
       "<thead><tr><th>MET</th><th>EXTNAME</th><th>TSTART</th><th>TSTOP</th><th>EXPOSURE</th><th>TELAPSE</th><th>TIME</th><th>SRC_AREA</th><th>BKG_AREA</th><th>STD_AREA</th><th>PLATE_SCALE</th><th>RAW_TOT_CNTS</th><th>RAW_TOT_CNTS_ERR</th><th>RAW_BKG_CNTS</th><th>RAW_BKG_CNTS_ERR</th><th>RAW_STD_CNTS</th><th>RAW_STD_CNTS_ERR</th><th>RAW_TOT_RATE</th><th>RAW_TOT_RATE_ERR</th><th>RAW_BKG_RATE</th><th>RAW_BKG_RATE_ERR</th><th>RAW_STD_RATE</th><th>RAW_STD_RATE_ERR</th><th>COI_STD_FACTOR</th><th>COI_STD_FACTOR_ERR</th><th>COI_BKG_FACTOR</th><th>COI_BKG_FACTOR_ERR</th><th>COI_TOT_RATE</th><th>COI_TOT_RATE_ERR</th><th>COI_BKG_RATE</th><th>COI_BKG_RATE_ERR</th><th>COI_SRC_RATE</th><th>COI_SRC_RATE_ERR</th><th>AP_FACTOR</th><th>AP_FACTOR_ERR</th><th>AP_COI_SRC_RATE</th><th>AP_COI_SRC_RATE_ERR</th><th>LSS_FACTOR</th><th>LSS_RATE</th><th>LSS_RATE_ERR</th><th>SSS_FACTOR</th><th>SSS_RATE</th><th>SSS_RATE_ERR</th><th>SENSCORR_FACTOR</th><th>SENSCORR_RATE</th><th>SENSCORR_RATE_ERR</th><th>CORR_RATE</th><th>CORR_RATE_ERR</th><th>AB_MAG</th><th>AB_MAG_ERR</th><th>AB_MAG_ERR_STAT</th><th>AB_MAG_ERR_SYS</th><th>AB_MAG_BKG</th><th>AB_MAG_BKG_ERR_STAT</th><th>AB_MAG_BKG_ERR_SYS</th><th>AB_MAG_BKG_ERR</th><th>AB_MAG_LIM</th><th>AB_MAG_LIM_SIG</th><th>AB_MAG_COI_LIM</th><th>AB_FLUX_AA</th><th>AB_FLUX_AA_ERR_STAT</th><th>AB_FLUX_AA_ERR_SYS</th><th>AB_FLUX_AA_ERR</th><th>AB_FLUX_AA_BKG</th><th>AB_FLUX_AA_BKG_ERR_STAT</th><th>AB_FLUX_AA_BKG_ERR_SYS</th><th>AB_FLUX_AA_BKG_ERR</th><th>AB_FLUX_AA_LIM</th><th>AB_FLUX_AA_COI_LIM</th><th>AB_FLUX_HZ</th><th>AB_FLUX_HZ_ERR_STAT</th><th>AB_FLUX_HZ_ERR_SYS</th><th>AB_FLUX_HZ_ERR</th><th>AB_FLUX_HZ_BKG</th><th>AB_FLUX_HZ_BKG_ERR_STAT</th><th>AB_FLUX_HZ_BKG_ERR_SYS</th><th>AB_FLUX_HZ_BKG_ERR</th><th>AB_FLUX_HZ_LIM</th><th>AB_FLUX_HZ_COI_LIM</th><th>MAG</th><th>MAG_ERR</th><th>MAG_ERR_STAT</th><th>MAG_ERR_SYS</th><th>MAG_BKG</th><th>MAG_BKG_ERR_STAT</th><th>MAG_BKG_ERR_SYS</th><th>MAG_BKG_ERR</th><th>MAG_LIM</th><th>MAG_LIM_SIG</th><th>MAG_COI_LIM</th><th>FLUX_AA</th><th>FLUX_AA_ERR_STAT</th><th>FLUX_AA_ERR_SYS</th><th>FLUX_AA_ERR</th><th>FLUX_AA_BKG</th><th>FLUX_AA_BKG_ERR_STAT</th><th>FLUX_AA_BKG_ERR_SYS</th><th>FLUX_AA_BKG_ERR</th><th>FLUX_AA_LIM</th><th>FLUX_AA_COI_LIM</th><th>FLUX_HZ</th><th>FLUX_HZ_ERR_STAT</th><th>FLUX_HZ_ERR_SYS</th><th>FLUX_HZ_ERR</th><th>FLUX_HZ_BKG</th><th>FLUX_HZ_BKG_ERR_STAT</th><th>FLUX_HZ_BKG_ERR_SYS</th><th>FLUX_HZ_BKG_ERR</th><th>FLUX_HZ_LIM</th><th>FLUX_HZ_COI_LIM</th><th>COI_RATE_LIMIT</th><th>CORR_RATE_LIMIT</th><th>FILTER</th><th>RA</th><th>DEC</th><th>DETX</th><th>DETY</th><th>NSIGMA</th><th>FRAMTIME</th><th>SATURATED</th><th>SYS_ERR</th><th>SRCEXP</th><th>BKGEXP</th><th>QUALFLAG</th><th>PHOTFLAG</th><th>CORRFLAG</th></tr></thead>\n",
       "<thead><tr><th>float64</th><th>str12</th><th>float64</th><th>float64</th><th>float32</th><th>float32</th><th>float64</th><th>float32</th><th>float32</th><th>float32</th><th>float32</th><th>float32</th><th>float32</th><th>float32</th><th>float32</th><th>float32</th><th>float32</th><th>float32</th><th>float32</th><th>float32</th><th>float32</th><th>float32</th><th>float32</th><th>float32</th><th>float32</th><th>float32</th><th>float32</th><th>float32</th><th>float32</th><th>float32</th><th>float32</th><th>float32</th><th>float32</th><th>float32</th><th>float32</th><th>float32</th><th>float32</th><th>float32</th><th>float32</th><th>float32</th><th>float32</th><th>float32</th><th>float32</th><th>float32</th><th>float32</th><th>float32</th><th>float32</th><th>float32</th><th>float32</th><th>float32</th><th>float32</th><th>float32</th><th>float32</th><th>float32</th><th>float32</th><th>float32</th><th>float32</th><th>float32</th><th>float32</th><th>float32</th><th>float32</th><th>float32</th><th>float32</th><th>float32</th><th>float32</th><th>float32</th><th>float32</th><th>float32</th><th>float32</th><th>float32</th><th>float32</th><th>float32</th><th>float32</th><th>float32</th><th>float32</th><th>float32</th><th>float32</th><th>float32</th><th>float32</th><th>float32</th><th>float32</th><th>float32</th><th>float32</th><th>float32</th><th>float32</th><th>float32</th><th>float32</th><th>float32</th><th>float32</th><th>float32</th><th>float32</th><th>float32</th><th>float32</th><th>float32</th><th>float32</th><th>float32</th><th>float32</th><th>float32</th><th>float32</th><th>float32</th><th>float32</th><th>float32</th><th>float32</th><th>float32</th><th>float32</th><th>float32</th><th>float32</th><th>float32</th><th>float32</th><th>float32</th><th>float32</th><th>float32</th><th>str8</th><th>float64</th><th>float64</th><th>float32</th><th>float32</th><th>float32</th><th>float32</th><th>int16</th><th>bool</th><th>float32</th><th>float32</th><th>int32</th><th>int32</th><th>int32</th></tr></thead>\n",
       "<tr><td>645016110.48891</td><td>w1645015900I</td><td>645015900.036</td><td>645016320.94182</td><td>414.26727</td><td>420.90582</td><td>210.48891139030457</td><td>78.420616</td><td>9676.953</td><td>78.420616</td><td>1.004</td><td>663.314</td><td>25.530018</td><td>18174.207</td><td>134.54604</td><td>663.314</td><td>25.530018</td><td>1.6011661</td><td>0.061626617</td><td>0.004533497</td><td>3.3562075e-05</td><td>1.6011661</td><td>0.061626617</td><td>1.0099249</td><td>0.039213452</td><td>1.002189</td><td>0.0074337036</td><td>1.6170576</td><td>0.06278725</td><td>0.0045434213</td><td>3.3700675e-05</td><td>1.2607597</td><td>0.062842846</td><td>1.000123</td><td>1.0732154</td><td>1.2609147</td><td>0.06744391</td><td>1.0074518</td><td>1.2515882</td><td>0.066945046</td><td>1.0</td><td>1.2515882</td><td>0.066945046</td><td>1.2837</td><td>1.6066637</td><td>0.08593736</td><td>1.6066637</td><td>0.08593736</td><td>18.435188</td><td>0.05807394</td><td>0.05807394</td><td>0.03</td><td>24.806543</td><td>0.008053412</td><td>0.03</td><td>0.008053412</td><td>21.178562</td><td>3.0</td><td>12.52296</td><td>7.4276065e-16</td><td>3.972884e-17</td><td>2.2493292e-17</td><td>3.972884e-17</td><td>2.1004237e-18</td><td>1.5579822e-20</td><td>6.3607895e-20</td><td>1.5579822e-20</td><td>5.936066e-17</td><td>1.7208377e-13</td><td>0.15311947</td><td>0.008190067</td><td>0.004636973</td><td>0.008190067</td><td>0.00043300056</td><td>3.211767e-06</td><td>1.3112714e-05</td><td>3.211767e-06</td><td>0.012237149</td><td>35.474922</td><td>16.925188</td><td>0.05807394</td><td>0.05807394</td><td>0.03</td><td>23.296543</td><td>0.008053412</td><td>0.03</td><td>0.008053412</td><td>19.668564</td><td>3.0</td><td>11.01296</td><td>6.7624474e-16</td><td>3.6171033e-17</td><td>2.0886628e-17</td><td>3.6171033e-17</td><td>1.912326e-18</td><td>1.4184614e-20</td><td>5.9064476e-20</td><td>1.4184614e-20</td><td>5.4044782e-17</td><td>1.5667329e-13</td><td>0.15143213</td><td>0.008099814</td><td>0.0046771625</td><td>0.008099814</td><td>0.000428229</td><td>3.176374e-06</td><td>1.3226364e-05</td><td>3.176374e-06</td><td>0.012102299</td><td>35.083996</td><td>0.100758605</td><td>0.1284029</td><td>UVW1</td><td>31.5665725</td><td>-0.291306666666667</td><td>775.2666</td><td>1002.0239</td><td>20.194391</td><td>0.0110322</td><td>0</td><td>False</td><td>414.26932</td><td>414.27</td><td>-999</td><td>2</td><td>0</td></tr>\n",
       "<tr><td>645050125.5057</td><td>w1645049850I</td><td>645049850.15716</td><td>645050400.85424</td><td>542.0115</td><td>550.6971</td><td>34225.50570130348</td><td>78.451866</td><td>9676.953</td><td>78.451866</td><td>1.004</td><td>795.406</td><td>27.97734</td><td>21152.914</td><td>145.18544</td><td>795.406</td><td>27.97734</td><td>1.4675093</td><td>0.051617675</td><td>0.0040329634</td><td>2.7680702e-05</td><td>1.4675093</td><td>0.051617675</td><td>1.00909</td><td>0.03577998</td><td>1.0019478</td><td>0.0068888287</td><td>1.4808488</td><td>0.052507453</td><td>0.0040408187</td><td>2.7782395e-05</td><td>1.163839</td><td>0.05255267</td><td>1.0000907</td><td>1.0884398</td><td>1.1639446</td><td>0.05720042</td><td>1.0056363</td><td>1.157421</td><td>0.056879826</td><td>1.0</td><td>1.157421</td><td>0.056879826</td><td>1.2837</td><td>1.4857813</td><td>0.07301663</td><td>1.4857813</td><td>0.07301663</td><td>18.520113</td><td>0.053356975</td><td>0.053356975</td><td>0.03</td><td>24.933826</td><td>0.0074649113</td><td>0.03</td><td>0.0074649113</td><td>21.396463</td><td>3.0</td><td>12.52296</td><td>6.868767e-16</td><td>3.375559e-17</td><td>2.0800939e-17</td><td>3.375559e-17</td><td>1.8680704e-18</td><td>1.28438006e-20</td><td>5.657146e-20</td><td>1.28438006e-20</td><td>4.8566685e-17</td><td>1.7208377e-13</td><td>0.14159904</td><td>0.006958686</td><td>0.004288096</td><td>0.006958686</td><td>0.00038510113</td><td>2.6477387e-06</td><td>1.1662158e-05</td><td>2.6477387e-06</td><td>0.010011981</td><td>35.474922</td><td>17.010113</td><td>0.053356975</td><td>0.053356975</td><td>0.03</td><td>23.423826</td><td>0.0074649113</td><td>0.03</td><td>0.0074649113</td><td>19.886463</td><td>3.0</td><td>11.01296</td><td>6.253654e-16</td><td>3.07327e-17</td><td>1.9315157e-17</td><td>3.07327e-17</td><td>1.7007805e-18</td><td>1.169361e-20</td><td>5.253064e-20</td><td>1.169361e-20</td><td>4.421743e-17</td><td>1.5667329e-13</td><td>0.14003867</td><td>0.0068820026</td><td>0.004325262</td><td>0.0068820026</td><td>0.00038085738</td><td>2.6185612e-06</td><td>1.1763236e-05</td><td>2.6185612e-06</td><td>0.009901651</td><td>35.083996</td><td>0.082291044</td><td>0.10505448</td><td>UVW1</td><td>31.5665725</td><td>-0.291306666666667</td><td>850.7212</td><td>988.6225</td><td>22.281097</td><td>0.0110322</td><td>0</td><td>False</td><td>542.01086</td><td>542.01</td><td>-999</td><td>2</td><td>0</td></tr>\n",
       "<tr><td>645055834.78165</td><td>w1645055268I</td><td>645055268.5447</td><td>645056401.0186</td><td>1114.6125</td><td>1132.4739</td><td>39934.781638503075</td><td>78.43574</td><td>9676.953</td><td>78.43574</td><td>1.004</td><td>1585.57</td><td>39.510494</td><td>44602.246</td><td>210.81279</td><td>1585.57</td><td>39.510494</td><td>1.4225243</td><td>0.035447594</td><td>0.004135187</td><td>1.9544987e-05</td><td>1.4225243</td><td>0.035447594</td><td>1.0088091</td><td>0.025334986</td><td>1.0019968</td><td>0.004744308</td><td>1.4350555</td><td>0.036039636</td><td>0.004143444</td><td>1.9618601e-05</td><td>1.1100614</td><td>0.03607247</td><td>1.0001074</td><td>1.164748</td><td>1.1101806</td><td>0.042015336</td><td>1.0119495</td><td>1.0970712</td><td>0.0415192</td><td>1.0</td><td>1.0970712</td><td>0.0415192</td><td>1.2837</td><td>1.4083102</td><td>0.053298198</td><td>1.4083102</td><td>0.053298198</td><td>18.578255</td><td>0.041090224</td><td>0.041090224</td><td>0.03</td><td>24.906597</td><td>0.005140802</td><td>0.03</td><td>0.005140802</td><td>21.819841</td><td>3.0</td><td>12.52296</td><td>6.510618e-16</td><td>2.4639757e-17</td><td>1.9716343e-17</td><td>2.4639757e-17</td><td>1.9155141e-18</td><td>9.069679e-21</td><td>5.800822e-20</td><td>9.069679e-21</td><td>3.2884215e-17</td><td>1.7208377e-13</td><td>0.13421583</td><td>0.0050794645</td><td>0.0040645073</td><td>0.0050794645</td><td>0.00039488162</td><td>1.8697066e-06</td><td>1.1958345e-05</td><td>1.8697066e-06</td><td>0.006779053</td><td>35.474922</td><td>17.068254</td><td>0.041090224</td><td>0.041090224</td><td>0.03</td><td>23.396597</td><td>0.005140802</td><td>0.03</td><td>0.005140802</td><td>20.309841</td><td>3.0</td><td>11.01296</td><td>5.927578e-16</td><td>2.2433211e-17</td><td>1.8308033e-17</td><td>2.2433211e-17</td><td>1.7439755e-18</td><td>8.2574694e-21</td><td>5.386477e-20</td><td>8.2574694e-21</td><td>2.993936e-17</td><td>1.5667329e-13</td><td>0.1327368</td><td>0.00502349</td><td>0.004099735</td><td>0.00502349</td><td>0.0003905301</td><td>1.8491029e-06</td><td>1.206199e-05</td><td>1.8491029e-06</td><td>0.006704349</td><td>35.083996</td><td>0.056067638</td><td>0.071131766</td><td>UVW1</td><td>31.5665725</td><td>-0.291306666666667</td><td>670.0689</td><td>913.5244</td><td>30.951391</td><td>0.0110322</td><td>0</td><td>False</td><td>1114.6172</td><td>1114.61</td><td>-999</td><td>2</td><td>0</td></tr>\n",
       "<tr><td>645061961.26184</td><td>w1645061521I</td><td>645061521.50628</td><td>645062401.0174</td><td>865.63947</td><td>879.5111</td><td>46061.26183414459</td><td>78.51537</td><td>9676.953</td><td>78.51537</td><td>1.004</td><td>1321.77</td><td>36.05351</td><td>38834.21</td><td>196.66678</td><td>1321.77</td><td>36.05351</td><td>1.5269353</td><td>0.04164974</td><td>0.0046359473</td><td>2.3477673e-05</td><td>1.5269353</td><td>0.04164974</td><td>1.009461</td><td>0.027766215</td><td>1.0022414</td><td>0.00508568</td><td>1.5413817</td><td>0.042397216</td><td>0.004646338</td><td>2.3576948e-05</td><td>1.1765728</td><td>0.04243761</td><td>1.0000253</td><td>1.135243</td><td>1.1766025</td><td>0.048177</td><td>1.0064585</td><td>1.1690521</td><td>0.047867842</td><td>1.0</td><td>1.1690521</td><td>0.047867842</td><td>1.2837</td><td>1.5007122</td><td>0.06144795</td><td>1.5007122</td><td>0.06144795</td><td>18.509256</td><td>0.044456404</td><td>0.044456404</td><td>0.03</td><td>24.782223</td><td>0.005509359</td><td>0.03</td><td>0.005509359</td><td>21.607418</td><td>3.0</td><td>12.52296</td><td>6.937792e-16</td><td>2.8407387e-17</td><td>2.100997e-17</td><td>2.8407387e-17</td><td>2.1480021e-18</td><td>1.08996224e-20</td><td>6.5048734e-20</td><td>1.08996224e-20</td><td>3.9990477e-17</td><td>1.7208377e-13</td><td>0.143022</td><td>0.0058561587</td><td>0.0043311873</td><td>0.0058561587</td><td>0.0004428088</td><td>2.2469478e-06</td><td>1.3409741e-05</td><td>2.2469478e-06</td><td>0.008244003</td><td>35.474922</td><td>16.999256</td><td>0.044456404</td><td>0.044456404</td><td>0.03</td><td>23.272223</td><td>0.005509359</td><td>0.03</td><td>0.005509359</td><td>20.097418</td><td>3.0</td><td>11.01296</td><td>6.3164973e-16</td><td>2.5863441e-17</td><td>1.9509258e-17</td><td>2.5863441e-17</td><td>1.9556438e-18</td><td>9.923537e-21</td><td>6.0402396e-20</td><td>9.923537e-21</td><td>3.640924e-17</td><td>1.5667329e-13</td><td>0.14144593</td><td>0.005791625</td><td>0.0043687266</td><td>0.005791625</td><td>0.00043792915</td><td>2.222187e-06</td><td>1.3525966e-05</td><td>2.222187e-06</td><td>0.008153156</td><td>35.083996</td><td>0.067819424</td><td>0.086503305</td><td>UVW1</td><td>31.5665725</td><td>-0.291306666666667</td><td>773.4313</td><td>1111.9973</td><td>27.894651</td><td>0.0110322</td><td>0</td><td>False</td><td>865.63586</td><td>865.64</td><td>-999</td><td>2</td><td>0</td></tr>\n",
       "</table></div>"
      ],
      "text/plain": [
       "<Table length=4>\n",
       "      MET         EXTNAME         TSTART     ... QUALFLAG PHOTFLAG CORRFLAG\n",
       "    float64        str12         float64     ...  int32    int32    int32  \n",
       "--------------- ------------ --------------- ... -------- -------- --------\n",
       "645016110.48891 w1645015900I   645015900.036 ...     -999        2        0\n",
       " 645050125.5057 w1645049850I 645049850.15716 ...     -999        2        0\n",
       "645055834.78165 w1645055268I  645055268.5447 ...     -999        2        0\n",
       "645061961.26184 w1645061521I 645061521.50628 ...     -999        2        0"
      ]
     },
     "execution_count": 135,
     "metadata": {},
     "output_type": "execute_result"
    }
   ],
   "source": [
    "mag_data"
   ]
  },
  {
   "cell_type": "code",
   "execution_count": null,
   "id": "1af8fc27",
   "metadata": {},
   "outputs": [],
   "source": []
  }
 ],
 "metadata": {
  "kernelspec": {
   "display_name": "Python 3 (ipykernel)",
   "language": "python",
   "name": "python3"
  },
  "language_info": {
   "codemirror_mode": {
    "name": "ipython",
    "version": 3
   },
   "file_extension": ".py",
   "mimetype": "text/x-python",
   "name": "python",
   "nbconvert_exporter": "python",
   "pygments_lexer": "ipython3",
   "version": "3.11.3"
  }
 },
 "nbformat": 4,
 "nbformat_minor": 5
}
